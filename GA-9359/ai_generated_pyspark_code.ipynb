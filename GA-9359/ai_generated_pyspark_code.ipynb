{
    "cells": [
        {
            "cell_type": "code",
            "execution_count": null,
            "metadata": {},
            "outputs": [],
            "source": [
                "# Databricks notebook source\n# COMMAND ----------\n# MAGIC %md\n# MAGIC # Customer 360 ETL Process\n# MAGIC This notebook performs an ETL process to create a comprehensive Customer 360 view by integrating multiple datasets.\n\n# COMMAND ----------\n# MAGIC\n",
                "# Import necessary libraries\nimport logging\nfrom pyspark.sql import functions as F\nfrom pyspark.sql.functions import count, max, avg, datediff, current_date, when, lit\n\n# Configure logging\nlogging.basicConfig(level=logging.INFO)\nlogger = logging.getLogger(__name__)\n\n# Assume Spark session is already initialized\n# spark = SparkSession.builder.appName(\"Customer360Migration\").getOrCreate()\n\n# COMMAND ----------\n# MAGIC %md\n# MAGIC ## Step 1: Data Ingestion\n# MAGIC Load data from CSV files into DataFrames.\n\n# COMMAND ----------\n# MAGIC\n",
                "# Step 1: Data Ingestion\ntry:\n    logger.info(\"Loading data from CSV files into DataFrames.\")\n    policy_df = spark.read.csv(\"tfs://dataeconomy-9k42/62457/uploads/62457/29aabe9d-c354-4176-8f98-2dd7a5fd7216/policy.csv\", header=True, inferSchema=True)\n    claims_df = spark.read.csv(\"tfs://dataeconomy-9k42/62457/uploads/62457/29aabe9d-c354-4176-8f98-2dd7a5fd7216/claims.csv\", header=True, inferSchema=True)\n    demographics_df = spark.read.csv(\"tfs://dataeconomy-9k42/62457/uploads/62457/29aabe9d-c354-4176-8f98-2dd7a5fd7216/demographics.csv\", header=True, inferSchema=True)\n    scores_df = spark.read.csv(\"tfs://dataeconomy-9k42/62457/uploads/62457/29aabe9d-c354-4176-8f98-2dd7a5fd7216/scores.csv\", header=True, inferSchema=True)\n    aiml_insights_df = spark.read.csv(\"tfs://dataeconomy-9k42/62457/uploads/62457/29aabe9d-c354-4176-8f98-2dd7a5fd7216/aiml_insights.csv\", header=True, inferSchema=True)\nexcept Exception as e:\n    logger.error(f\"Error loading data: {e}\")\n    raise\n\n# COMMAND ----------\n# MAGIC %md\n# MAGIC ## Step 2: Data Selection and Filtering\n# MAGIC Select relevant fields from each dataset.\n\n# COMMAND ----------\n# MAGIC\n",
                "# Step 2: Data Selection and Filtering\ntry:\n    logger.info(\"Selecting relevant fields from each dataset.\")\n    selected_demographics_df = demographics_df.select(\n        \"Customer_ID\", \"Customer_Name\", \"Email\", \"Phone_Number\", \"Address\", \"City\", \"State\", \"Postal_Code\", \n        \"Date_of_Birth\", \"Gender\", \"Marital_Status\", \"Occupation\", \"Income_Level\", \"Customer_Segment\"\n    )\n    selected_claims_df = claims_df.select(\n        \"Claim_ID\", \"Policy_ID\", \"Claim_Date\", \"Claim_Type\", \"Claim_Status\", \"Claim_Amount\", \"Claim_Payout\"\n    )\n    selected_policy_df = policy_df.select(\n        \"policy_id\", \"customer_id\", \"policy_type\", \"policy_status\", \"policy_start_date\", \"policy_end_date\", \n        \"policy_term\", \"policy_premium\", \"total_premium_paid\", \"renewal_status\", \"policy_addons\"\n    )\nexcept Exception as e:\n    logger.error(f\"Error selecting fields: {e}\")\n    raise\n\n# COMMAND ----------\n# MAGIC %md\n# MAGIC ## Step 3: Data Integration\n# MAGIC Join datasets based on common identifiers.\n\n# COMMAND ----------\n# MAGIC\n",
                "# Step 3: Data Integration\ntry:\n    logger.info(\"Joining datasets based on common identifiers.\")\n    joined_df = selected_demographics_df.join(selected_policy_df, F.col('Customer_ID') == F.col('customer_id'), \"inner\") \\\n                                        .join(selected_claims_df, F.col('policy_id') == F.col('Policy_ID'), \"inner\")\nexcept Exception as e:\n    logger.error(f\"Error joining datasets: {e}\")\n    raise\n\n# COMMAND ----------\n# MAGIC %md\n# MAGIC ## Step 4: Data Aggregation and Summarization\n# MAGIC Compute aggregate metrics.\n\n# COMMAND ----------\n# MAGIC\n",
                "# Step 4: Data Aggregation and Summarization\ntry:\n    logger.info(\"Computing aggregate metrics.\")\n    aggregated_df = joined_df.groupBy(\"Customer_ID\").agg(\n        count(\"Claim_ID\").alias(\"Total_Claims\"),\n        count(\"policy_id\").alias(\"Policy_Count\"),\n        max(\"Claim_Date\").alias(\"Recent_Claim_Date\"),\n        avg(\"Claim_Amount\").alias(\"Average_Claim_Amount\")\n    )\nexcept Exception as e:\n    logger.error(f\"Error aggregating data: {e}\")\n    raise\n\n# COMMAND ----------\n# MAGIC %md\n# MAGIC ## Step 5: Custom Calculations\n# MAGIC Implement custom calculations.\n\n# COMMAND ----------\n# MAGIC\n",
                "# Step 5: Custom Calculations\ntry:\n    logger.info(\"Implementing custom calculations.\")\n    age_expr = datediff(current_date(), F.col('Date_of_Birth')) / 365\n    claim_to_premium_ratio_expr = when(F.col('total_premium_paid') != 0, F.col('Claim_Amount') / F.col('total_premium_paid')).otherwise(0)\n    claims_per_policy_expr = when(F.col('Policy_Count') != 0, F.col('Total_Claims') / F.col('Policy_Count')).otherwise(0)\n\n    final_df = aggregated_df.withColumn(\"Age\", age_expr) \\\n                            .withColumn(\"Claim_To_Premium_Ratio\", claim_to_premium_ratio_expr) \\\n                            .withColumn(\"Claims_Per_Policy\", claims_per_policy_expr) \\\n                            .withColumn(\"Retention_Rate\", lit(0.85)) \\\n                            .withColumn(\"Cross_Sell_Opportunities\", lit(\"Multi-Policy Discount, Home Coverage Add-on\")) \\\n                            .withColumn(\"Upsell_Potential\", lit(\"Premium Vehicle Coverage\"))\nexcept Exception as e:\n    logger.error(f\"Error in custom calculations: {e}\")\n    raise\n\n# COMMAND ----------\n# MAGIC %md\n# MAGIC ## Step 6: Final Data Integration\n# MAGIC Combine all data sources into a comprehensive dataset.\n\n# COMMAND ----------\n# MAGIC\n",
                "# Step 6: Final Data Integration\ntry:\n    logger.info(\"Combining all data sources into a comprehensive dataset.\")\n    final_customer_360_df = final_df.join(scores_df, \"Customer_ID\", \"inner\") \\\n                                    .join(aiml_insights_df, \"Customer_ID\", \"inner\")\nexcept Exception as e:\n    logger.error(f\"Error in final data integration: {e}\")\n    raise\n\n# COMMAND ----------\n# MAGIC %md\n# MAGIC ## Step 7: Output Generation\n# MAGIC Save the consolidated dataset to Unity Catalog table.\n\n# COMMAND ----------\n# MAGIC\n",
                "# Step 7: Output Generation\ntry:\n    logger.info(\"Saving the consolidated dataset to Unity Catalog table.\")\n    spark.sql(\"DROP TABLE IF EXISTS catalog.target_db.customer_360\")\n    final_customer_360_df.write.format(\"delta\").mode(\"overwrite\").saveAsTable(\"catalog.target_db.customer_360\")\nexcept Exception as e:\n    logger.error(f\"Error saving output: {e}\")\n    raise\n\nlogger.info(\"ETL process completed successfully.\")\n"
            ]
        }
    ],
    "metadata": {
        "kernelspec": {
            "display_name": "Python 3",
            "language": "python",
            "name": "python3"
        },
        "language_info": {
            "codemirror_mode": {
                "name": "ipython",
                "version": 3
            },
            "file_extension": ".py",
            "mimetype": "text/x-python",
            "name": "python",
            "nbconvert_exporter": "python",
            "pygments_lexer": "ipython3",
            "version": "3.x"
        }
    },
    "nbformat": 4,
    "nbformat_minor": 5
}