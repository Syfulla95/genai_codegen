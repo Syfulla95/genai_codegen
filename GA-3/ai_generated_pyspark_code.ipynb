{
    "cells": [
        {
            "cell_type": "code",
            "execution_count": null,
            "metadata": {},
            "outputs": [],
            "source": [
                "import logging\nfrom pyspark.sql import functions as F\nfrom pyspark.sql.types import StringType, DecimalType\n\n# Configure logging\nlogging.basicConfig(level=logging.INFO)\nlogger = logging.getLogger(__name__)\n\ntry:\n    # Load data from Unity Catalog tables\n    sales_df = spark.table(\"catalog.source_db.sales_data\")\n    line_totals_df = spark.table(\"catalog.source_db.line_totals\")\n\n    # Transformation: DateTime Conversion\n    sales_df = sales_df.withColumn(\"SO_AUDAT\", F.to_date(F.col(\"SO_AUDAT\"), \"yyyy-MM-dd\"))\n    line_totals_df = line_totals_df.withColumn(\"FKDAT\", F.to_date(F.col(\"FKDAT\"), \"yyyy-MM-dd\"))\n\n    # Transformation: Select and Rename Fields\n    sales_df = sales_df.select(\n        F.col(\"SO_AUDAT\").alias(\"SO_Date\"),\n        F.col(\"WERKS\").alias(\"Whs\"),\n        F.col(\"VTWEG\").alias(\"DIST_CHNL_ID\"),\n        F.col(\"ZZFINCLASS\").alias(\"FNC_ID\"),\n        F.col(\"SOLDTO_KUNNR\").alias(\"SOLDTO\"),\n        F.col(\"SHIPTO_KUNNR\").alias(\"SHIPTO\"),\n        F.col(\"VGBEL\").alias(\"RFRNC_DOC_NUM\")\n    )\n\n    # Transformation: Custom Calculations\n    sales_df = sales_df.withColumn(\"Rush_Order_Fee\", F.col(\"ADDTN_TRANS_FEE_OVRRIDE_ZSRO\").cast(DecimalType(20, 2)))\n\n    # Transformation: Multi-Field Formula\n    sales_df = sales_df.fillna(0)\n\n    # Transformation: Join\n    joined_df = sales_df.join(line_totals_df, sales_df[\"DIST_CHNL_ID\"] == line_totals_df[\"DIST_CHNL_ID\"], \"inner\")\n\n    # Transformation: Union\n    union_df = joined_df.union(sales_df)\n\n    # Transformation: Filter\n    filtered_df = union_df.filter(F.col(\"null_yn\") == \"Y\")\n\n    # Transformation: Dynamic Rename\n    renamed_df = filtered_df.withColumnRenamed(\"Sum_Invoice_Lines\", \"Invoice_Lines\")\n\n    # Output: Write to Unity Catalog table\n    spark.sql(\"DROP TABLE IF EXISTS catalog.target_db.final_output\")\n    renamed_df.write.format(\"delta\").mode(\"overwrite\").saveAsTable(\"catalog.target_db.final_output\")\n\n    logger.info(\"ETL process completed successfully.\")\n\nexcept Exception as e:\n    logger.error(f\"Error during ETL process: {e}\")\n"
            ]
        }
    ],
    "metadata": {
        "kernelspec": {
            "display_name": "Python 3",
            "language": "python",
            "name": "python3"
        },
        "language_info": {
            "codemirror_mode": {
                "name": "ipython",
                "version": 3
            },
            "file_extension": ".py",
            "mimetype": "text/x-python",
            "name": "python",
            "nbconvert_exporter": "python",
            "pygments_lexer": "ipython3",
            "version": "3.x"
        }
    },
    "nbformat": 4,
    "nbformat_minor": 5
}