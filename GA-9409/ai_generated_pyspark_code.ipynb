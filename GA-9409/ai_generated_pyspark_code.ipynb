{
    "cells": [
        {
            "cell_type": "code",
            "execution_count": null,
            "metadata": {},
            "outputs": [],
            "source": [
                "# Databricks notebook source\n# COMMAND ----------\n# MAGIC %md\n# MAGIC # ETL Process for Currency Data\n# MAGIC This notebook performs an ETL process on currency data, including loading data from Unity Catalog, performing transformations, and writing the transformed data back to Unity Catalog.\n\n# COMMAND ----------\n# MAGIC\n",
                "# Import necessary libraries\nimport logging\nfrom pyspark.sql import DataFrame\nfrom pyspark.sql.functions import col\n\n# Configure logging\nlogging.basicConfig(level=logging.INFO)\nlogger = logging.getLogger(__name__)\n\n# COMMAND ----------\n# MAGIC\n",
                "# Define function to load data from Unity Catalog table\ndef load_unity_catalog_table(table_name: str) -> DataFrame:\n    try:\n        logger.info(f\"Loading data from Unity Catalog table: {table_name}\")\n        df = spark.table(table_name)\n        logger.info(f\"Successfully loaded data from {table_name}\")\n        return df\n    except Exception as e:\n        logger.error(f\"Error loading data from {table_name}: {str(e)}\")\n        raise\n\n# COMMAND ----------\n# MAGIC\n",
                "# Load flat file data\nflat_file_path = \"/Volumes/genai_demo/ssis/ssis/SampleCurrencyData.txt\"\nflat_file_df = spark.read.option(\"header\", \"true\").csv(flat_file_path)\n\n# Define schema contract for flat file data\nflat_file_df = flat_file_df.select('AverageRate', 'CurrencyID', 'CurrencyDate', 'EndOfDayRate')\n\n# COMMAND ----------\n# MAGIC\n",
                "# Load currency dimension data from Unity Catalog\ncurrency_df = load_unity_catalog_table(\"catalog.vsco.dbo.DimCurrency1\")\n\n# Load date dimension data from Unity Catalog\ndate_df = load_unity_catalog_table(\"catalog.vsco.dbo.DimDate1\")\n\n# COMMAND ----------\n# MAGIC\n",
                "# Perform lookup operations and transformations\ntry:\n    logger.info(\"Performing lookup operations and transformations\")\n    # Ensure the join keys are unique to avoid data multiplication\n    transformed_df = flat_file_df.join(currency_df, col('CurrencyID') == col('CurrencyAlternateKey'), \"left\")\n    final_df = transformed_df.join(date_df, col('CurrencyID') == col('EnglishMonthName'), \"left\")\n    # Define schema contract for final DataFrame\n    final_df = final_df.select('AverageRate', 'EndOfDayRate', 'CurrencyID', 'CurrencyDate', \n                               'CurrencyAlternateKey', 'FullDateAlternateKey', 'EnglishDayNameOfWeek', \n                               'EnglishMonthName', 'DateKey')\n    logger.info(\"Successfully performed transformations\")\nexcept Exception as e:\n    logger.error(f\"Error during transformations: {str(e)}\")\n    raise\n\n# COMMAND ----------\n# MAGIC\n",
                "# Drop existing table in Unity Catalog before writing new data\ntry:\n    logger.info(\"Dropping existing table in Unity Catalog if exists\")\n    spark.sql(\"DROP TABLE IF EXISTS catalog.vsco.dbo.TransformedCurrencyData\")\nexcept Exception as e:\n    logger.error(f\"Error dropping existing table: {str(e)}\")\n    raise\n\n# COMMAND ----------\n# MAGIC\n",
                "# Write transformed data to Unity Catalog table\ntry:\n    logger.info(\"Writing transformed data to Unity Catalog table\")\n    final_df.write.format(\"delta\").mode(\"overwrite\").saveAsTable(\"catalog.vsco.dbo.TransformedCurrencyData\")\n    logger.info(\"Successfully wrote transformed data to Unity Catalog table\")\nexcept Exception as e:\n    logger.error(f\"Error writing data to Unity Catalog table: {str(e)}\")\n    raise\n\n# COMMAND ----------\n# MAGIC %md\n# MAGIC ## ETL Process Completed\n# MAGIC The ETL process for currency data has been completed successfully.\n"
            ]
        }
    ],
    "metadata": {
        "kernelspec": {
            "display_name": "Python 3",
            "language": "python",
            "name": "python3"
        },
        "language_info": {
            "codemirror_mode": {
                "name": "ipython",
                "version": 3
            },
            "file_extension": ".py",
            "mimetype": "text/x-python",
            "name": "python",
            "nbconvert_exporter": "python",
            "pygments_lexer": "ipython3",
            "version": "3.x"
        }
    },
    "nbformat": 4,
    "nbformat_minor": 5
}