{
    "cells": [
        {
            "cell_type": "code",
            "execution_count": null,
            "metadata": {},
            "outputs": [],
            "source": [
                "import logging\nfrom pyspark.sql import functions as F\nfrom pyspark.sql.types import IntegerType, StringType, DateType, FloatType\n\n# Configure logging\nlogging.basicConfig(level=logging.INFO)\nlogger = logging.getLogger(__name__)\n\ntry:\n    # Step 1: Data Extraction\n    logger.info(\"Extracting data from flat file source.\")\n    flat_file_df = spark.read.option(\"header\", \"true\").csv(\"/Volumes/genai_demo/ssis/ssis/SampleCurrencyData.txt\")\n    \n    logger.info(\"Extracting data from DimCurrency and DimDate tables.\")\n    dim_currency_df = spark.table(\"sqlserver_catalog.dbo.dimcurrency1\")\n    dim_date_df = spark.table(\"sqlserver_catalog.dbo.dimdate1\")\n\n    # Step 2: Data Transformation\n    # Lookup Currency Key\n    logger.info(\"Performing lookup for Currency Key.\")\n    enriched_currency_df = flat_file_df.join(\n        dim_currency_df,\n        flat_file_df.CurrencyID == dim_currency_df.CurrencyAlternateKey,\n        \"inner\"\n    ).select(\n        flat_file_df[\"*\"],\n        dim_currency_df[\"CurrencyKey\"]\n    )\n\n    # Lookup Date Key\n    logger.info(\"Performing lookup for Date Key.\")\n    enriched_date_df = enriched_currency_df.join(\n        dim_date_df,\n        enriched_currency_df.CurrencyDate == dim_date_df.FullDateAlternateKey,\n        \"inner\"\n    ).select(\n        enriched_currency_df[\"*\"],\n        dim_date_df[\"DateKey\"]\n    )\n\n    # Step 3: Data Loading\n    logger.info(\"Loading transformed data into Unity Catalog table.\")\n    spark.sql(\"DROP TABLE IF EXISTS sqlserver_catalog.dbo.ssisresult\")\n    enriched_date_df.write.format(\"delta\").mode(\"overwrite\").saveAsTable(\"sqlserver_catalog.dbo.ssisresult\")\n\n    logger.info(\"ETL process completed successfully.\")\n\nexcept Exception as e:\n    logger.error(\"An error occurred during the ETL process: %s\", str(e))\n    raise\n"
            ]
        }
    ],
    "metadata": {
        "kernelspec": {
            "display_name": "Python 3",
            "language": "python",
            "name": "python3"
        },
        "language_info": {
            "codemirror_mode": {
                "name": "ipython",
                "version": 3
            },
            "file_extension": ".py",
            "mimetype": "text/x-python",
            "name": "python",
            "nbconvert_exporter": "python",
            "pygments_lexer": "ipython3",
            "version": "3.x"
        }
    },
    "nbformat": 4,
    "nbformat_minor": 5
}