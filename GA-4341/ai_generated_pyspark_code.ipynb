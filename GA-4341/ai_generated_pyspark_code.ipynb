{
    "cells": [
        {
            "cell_type": "code",
            "execution_count": null,
            "metadata": {},
            "outputs": [],
            "source": [
                "import logging\nfrom pyspark.sql import functions as F\nfrom pyspark.sql import Window\n\n# Set up logging\nlogging.basicConfig(level=logging.INFO)\nlogger = logging.getLogger(__name__)\n\n# Define constants for parameterized queries\nFROM_PARM = '2023-01-01'  # Example start date\nTO_PARM = '2023-12-31'    # Example end date\n\ntry:\n    # Load data from Unity Catalog tables\n    transaction_items_df = spark.table(\"catalog.salesmi_db.salesmiTRANSACTION_ITEMS\")\n    transaction_source_reasons_df = spark.table(\"catalog.salesmi_db.salesmitransaction_source_reasons\")\n    products_df = spark.table(\"catalog.salesmi_db.salesmiPRODUCTS\")\n    transaction_item_reasons_df = spark.table(\"catalog.salesmi_db.salesmiTRANSACTION_ITEM_REASONS\")\n    agreements_df = spark.table(\"catalog.salesmi_db.salesmiAGREEMENTS\")\n\n    # Perform joins based on the extracted components\n    joined_df = transaction_items_df.alias(\"a11\") \\\n        .join(products_df.alias(\"a13\"), F.col(\"a11.PROD_ID\") == F.col(\"a13.PROD_ID\")) \\\n        .join(transaction_item_reasons_df.alias(\"a14\"), F.col(\"a11.TRAN_ITEM_REASON_ID\") == F.col(\"a14.TRAN_ITEM_REASON_ID\")) \\\n        .join(transaction_source_reasons_df.alias(\"a12\"), F.col(\"a14.tran_src_reason_id\") == F.col(\"a12.tran_src_reason_id\")) \\\n        .join(agreements_df.alias(\"a15\"), F.col(\"a11.AGRMT_ID\") == F.col(\"a15.AGRMT_ID\"))\n\n    # Apply filters\n    filtered_df = joined_df.filter(\n        (F.col(\"a13.PROD_LINE_ID\").isin(12, 9, 10, 3)) &\n        (F.col(\"a14.TRAN_CATEGORY_ID\").isin(5, 6, 7)) &\n        (~F.col(\"a14.TRAN_SRC_REASON_ID\").isin(5219, 5225, 5213, 5286, 5221, 5226, 5214, 5287, 5222, 5283, 5215, 5288, 975, 5284, 5216, 6364, 1053, 5285, 5218, 1014, 1016, 5227, 5217, 5211, 1017, 5228, 5220, 5212)) &\n        (F.col(\"a15.AGRMT_ISSUE_DATE_ID\") > '2004-04-01') &\n        (~F.col(\"a15.AGRMT_SRC_ID\").like('N0%')) &\n        (F.col(\"a11.TRAN_EFF_DATE_ID\") < F.col(\"a15.AGRMT_ISSUE_DATE_ID\") + 916) &\n        (F.col(\"a11.DATE_ID\").between(FROM_PARM, TO_PARM))\n    )\n\n    # Perform custom calculations\n    transformed_df = filtered_df.select(\n        F.max(F.substring(F.col(\"a15.AGRMT_SRC_ID\"), 1, 10)).alias(\"Policy No\"),\n        F.max(F.concat_ws(\", \", F.coalesce(F.col(\"a15.AGRMT_OWNER_PARTY_NAME\"), ''), F.coalesce(F.col(\"a15.AGRMT_OWNER_FIRST_NAME\"), ''), F.coalesce(F.col(\"a15.AGRMT_OWNER_MIDDLE_INITIAL\"), ''))).alias(\"Owner Name\"),\n        F.sum(F.when((F.col(\"a15.SRC_SYSTEM_ID\") == '55') & (F.col(\"a12.TRAN_SRC_REASON\") == 'LOAN (LOAN AMOUNT)') & (F.col(\"a11.DOLLAR_AMT\") < 0), F.col(\"a11.DOLLAR_AMT\"))\n              .when((F.col(\"a15.SRC_SYSTEM_ID\") == '55') & (F.col(\"a12.TRAN_SRC_REASON\") == 'LOAN (LOAN AMOUNT)') & (F.col(\"a11.DOLLAR_AMT\") > 0), 0)\n              .otherwise(F.col(\"a11.DOLLAR_AMT\"))).alias(\"Amount\"),\n        (1 + (F.col(\"a11.TRAN_EFF_DATE_ID\") - F.col(\"a15.AGRMT_ISSUE_DATE_ID\")) / 366).alias(\"Policy Age\")\n    )\n\n    # Group by and having clause\n    grouped_df = transformed_df.groupBy(\n        \"a14.TRAN_CATEGORY_ID\", \"a15.AGRMT_ISSUE_DATE_ID\", \"tran_src_reason\", \"a11.TRAN_EFF_DATE_ID\", (F.col(\"a11.TRAN_EFF_DATE_ID\") - F.col(\"a15.AGRMT_ISSUE_DATE_ID\"))\n    ).agg(\n        F.sum(\"Amount\").alias(\"Total Amount\")\n    ).filter(F.col(\"Total Amount\") > 5000)\n\n    # Order by\n    ordered_df = grouped_df.orderBy(\"Policy No\", \"Policy Date\")\n\n    # Write the transformed data to Unity Catalog target table\n    spark.sql(\"DROP TABLE IF EXISTS catalog.target_db.HD714068\")\n    ordered_df.write.format(\"delta\").mode(\"overwrite\").saveAsTable(\"catalog.target_db.HD714068\")\n\n    logger.info(\"ETL process completed successfully.\")\n\nexcept Exception as e:\n    logger.error(f\"An error occurred during the ETL process: {e}\")\n"
            ]
        }
    ],
    "metadata": {
        "kernelspec": {
            "display_name": "Python 3",
            "language": "python",
            "name": "python3"
        },
        "language_info": {
            "codemirror_mode": {
                "name": "ipython",
                "version": 3
            },
            "file_extension": ".py",
            "mimetype": "text/x-python",
            "name": "python",
            "nbconvert_exporter": "python",
            "pygments_lexer": "ipython3",
            "version": "3.x"
        }
    },
    "nbformat": 4,
    "nbformat_minor": 5
}