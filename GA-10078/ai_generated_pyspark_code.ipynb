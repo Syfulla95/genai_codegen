{
    "cells": [
        {
            "cell_type": "code",
            "execution_count": null,
            "metadata": {},
            "outputs": [],
            "source": [
                "# Databricks notebook source\n# COMMAND ----------\n# MAGIC %md\n# MAGIC # ETL Process for Cardinal Health Data\n# MAGIC This notebook performs an ETL process on data from Unity Catalog tables related to Cardinal Health. The process includes data integration, compensation calculation, and revenue projection.\n\n# COMMAND ----------\n# MAGIC\n",
                "# Import necessary libraries\nimport logging\nfrom pyspark.sql import functions as F\nfrom pyspark.sql import SparkSession\n\n# Initialize logging\nlogging.basicConfig(level=logging.INFO)\nlogger = logging.getLogger(__name__)\n\n# Assume the Spark session is already initialized as 'spark'\n\n# COMMAND ----------\n# MAGIC\n",
                "# Define the main ETL function\ndef main():\n    try:\n        # Load data from Unity Catalog tables\n        logger.info(\"Loading data from Unity Catalog tables...\")\n        hospital_stats_df = spark.table(\"genai_demo.cardinal_health.hospital_stats_north_america\")\n        hospital_sales_assignments_df = spark.table(\"genai_demo.cardinal_health.hospital_sales_assignments\")\n        employment_details_df = spark.table(\"genai_demo.cardinal_health.associates_employment\")\n        compensation_guidelines_df = spark.table(\"genai_demo.cardinal_health.compensation_guidelines\")\n        logistics_channels_df = spark.table(\"genai_demo.cardinal_health.logistics_channels\")\n        growth_opportunities_df = spark.table(\"genai_demo.cardinal_health.growth_opportunities\")\n        company_goals_df = spark.table(\"genai_demo.cardinal_health.company_goals\")\n        historical_sales_df = spark.table(\"genai_demo.cardinal_health.historical_sales\")\n        third_party_trends_df = spark.table(\"genai_demo.cardinal_health.third_party_sales_trends\")\n\n        # COMMAND ----------\n        # MAGIC\n",
                "# Data Integration\n        logger.info(\"Performing data integration...\")\n        joined_hospital_df = hospital_stats_df.join(\n            hospital_sales_assignments_df, [\"Hospital_ID\", \"Hospital_Name\"], \"inner\"\n        )\n\n        joined_employment_df = employment_details_df.join(\n            compensation_guidelines_df, \"Associate_ID\", \"inner\"\n        )\n\n        # COMMAND ----------\n        # MAGIC\n",
                "# Calculate total compensation\n        logger.info(\"Calculating total compensation...\")\n        base_salary = F.col(\"Base_Salary\")\n        commission = F.col(\"Commission_Percentage\") * base_salary\n        bonus = F.col(\"Bonus\")\n        compensation_df = joined_employment_df.withColumn(\"Compensation\", base_salary + commission + bonus)\n\n        # COMMAND ----------\n        # MAGIC\n",
                "# Join logistics and growth opportunities\n        logger.info(\"Joining logistics and growth opportunities...\")\n        logistics_growth_df = logistics_channels_df.join(\n            growth_opportunities_df, [\"Channel_ID\", \"Channel_Type\"], \"inner\"\n        ).dropDuplicates([\"Channel_ID\", \"Channel_Type\", \"Hospital_ID\"])\n\n        # COMMAND ----------\n        # MAGIC\n",
                "# Join with compensation data\n        logger.info(\"Joining with compensation data...\")\n        consolidated_df = compensation_df.join(\n            logistics_growth_df, \"Hospital_ID\", \"inner\"\n        )\n\n        # COMMAND ----------\n        # MAGIC\n",
                "# Join with company goals\n        logger.info(\"Joining with company goals...\")\n        consolidated_goals_df = consolidated_df.join(\n            company_goals_df, [\"Hospital_ID\", \"Channel_Type\"], \"inner\"\n        ).dropDuplicates([\"Hospital_ID\", \"Channel_Type\", \"Projected_Growth_Rate\"])\n\n        # COMMAND ----------\n        # MAGIC\n",
                "# Join historical sales with third-party trends\n        logger.info(\"Joining historical sales with third-party trends...\")\n        sales_trends_df = historical_sales_df.join(\n            third_party_trends_df, \"Channel_Type\", \"inner\"\n        ).dropDuplicates([\"Year\", \"Channel_Type\", \"Sales_Revenue\"])\n\n        # COMMAND ----------\n        # MAGIC\n",
                "# Join sales trends with growth data\n        logger.info(\"Joining sales trends with growth data...\")\n        final_join_df = sales_trends_df.join(\n            consolidated_goals_df, \"Hospital_ID\", \"inner\"\n        )\n\n        # COMMAND ----------\n        # MAGIC\n",
                "# Generate rows for target years and calculate projections\n        logger.info(\"Generating rows for target years and calculating projections...\")\n        generate_rows_df = final_join_df.withColumn(\"Target_Year\", F.expr(\"sequence(2024, 2026)\"))\n        projected_df = generate_rows_df.withColumn(\n            \"Projected_Revenue\",\n            F.col(\"Sales_Revenue\") * F.col(\"Projected_Growth_Rate\")\n        )\n\n        # COMMAND ----------\n        # MAGIC\n",
                "# Filter and select final output\n        logger.info(\"Filtering and selecting final output...\")\n        final_output_df = projected_df.filter(F.col(\"Target_Year\") > 2023).select(\n            F.col(\"Channel_Type\"), F.col(\"Hospital_ID\"), F.col(\"Market_Trend\"), F.col(\"Projected_Revenue\")\n        ).orderBy(\"Target_Year\")\n\n        # COMMAND ----------\n        # MAGIC\n",
                "# Write the final output to a CSV file\n        logger.info(\"Writing final output to CSV...\")\n        final_output_df.write.format(\"csv\").option(\"header\", \"true\").mode(\"overwrite\").save(\"dbfs:/genai_demo/cardinal_health/Sales_Prediction_Output.csv\")\n\n        logger.info(\"ETL process completed successfully.\")\n\n    except Exception as e:\n        logger.error(f\"An error occurred during the ETL process: {e}\")\n        raise\n\n# COMMAND ----------\n# MAGIC\n",
                "# Execute the main function\nif __name__ == \"__main__\":\n    main()\n"
            ]
        }
    ],
    "metadata": {
        "kernelspec": {
            "display_name": "Python 3",
            "language": "python",
            "name": "python3"
        },
        "language_info": {
            "codemirror_mode": {
                "name": "ipython",
                "version": 3
            },
            "file_extension": ".py",
            "mimetype": "text/x-python",
            "name": "python",
            "nbconvert_exporter": "python",
            "pygments_lexer": "ipython3",
            "version": "3.x"
        }
    },
    "nbformat": 4,
    "nbformat_minor": 5
}