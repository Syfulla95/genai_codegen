{
    "cells": [
        {
            "cell_type": "code",
            "execution_count": null,
            "metadata": {},
            "outputs": [],
            "source": [
                "# Databricks notebook source\n# COMMAND ----------\n# %md\n# # ETL Process for Cardinal Health Data\n# This notebook performs an ETL process on various datasets from the Unity Catalog, integrating and transforming the data to produce a final output table.\n\n# COMMAND ----------\n#\n",
                "# Import necessary libraries\nimport logging\nfrom pyspark.sql import functions as F\nfrom pyspark.sql.types import DoubleType\n\n# COMMAND ----------\n#\n",
                "# Configure logging\nlogging.basicConfig(level=logging.INFO)\nlogger = logging.getLogger(__name__)\n\n# COMMAND ----------\n#\n",
                "try:\n    # Load data from Unity Catalog tables\n    logger.info(\"Loading data from Unity Catalog tables...\")\n    df_hospital_stats = spark.table(\"genai_demo.cardinal_health.hospitals_stats\")\n    df_sales_associates = spark.table(\"genai_demo.cardinal_health.associates_employment\")\n    df_compensation_guidelines = spark.table(\"genai_demo.cardinal_health.compensation_guidelines\")\n    df_hospital_assignments = spark.table(\"genai_demo.cardinal_health.hospital_assignments\")\n    df_logistics_channels = spark.table(\"genai_demo.cardinal_health.logistics_channels\")\n    df_growth_opportunities = spark.table(\"genai_demo.cardinal_health.growth_opportunities\")\n    df_third_party_trends = spark.table(\"genai_demo.cardinal_health.third_party_trends\")\n    df_historical_sales = spark.table(\"genai_demo.cardinal_health.historical_sales_trending\")\n    df_company_goals = spark.table(\"genai_demo.cardinal_health.company_goals_1\")\n\n# COMMAND ----------\n#\n",
                "# Data Integration: Joining hospital statistics with assignments\n    logger.info(\"Performing data integration...\")\n    df_joined_hospital = df_hospital_stats.join(\n        df_hospital_assignments, F.col(\"Hospital_ID\") == F.col(\"Hospital_ID\"), \"inner\"\n    )\n\n# COMMAND ----------\n#\n",
                "# Joining employment details with compensation guidelines\n    df_joined_employment = df_sales_associates.join(\n        df_compensation_guidelines, F.col(\"Associate_ID\") == F.col(\"Associate_ID\"), \"inner\"\n    )\n\n# COMMAND ----------\n#\n",
                "# Joining all datasets to create a comprehensive view\n    df_joined_all = df_joined_hospital.join(\n        df_joined_employment, F.col(\"Associate_ID\") == F.col(\"Associate_ID\"), \"inner\"\n    )\n\n# COMMAND ----------\n#\n",
                "# Custom Calculations: Calculating total compensation\n    logger.info(\"Calculating total compensation...\")\n    base_salary = F.col(\"Base_Salary\").cast(DoubleType())\n    commission = F.col(\"Commission_Percentage\").cast(DoubleType()) * base_salary\n    bonus = F.col(\"Bonus\").cast(DoubleType())\n    df_compensation = df_joined_all.withColumn(\"Compensation\", base_salary + commission + bonus)\n\n# COMMAND ----------\n#\n",
                "# Data Filtering and Selection: Selecting relevant fields for further processing\n    logger.info(\"Filtering and selecting relevant records...\")\n    df_filtered = df_compensation.select(\n        F.col(\"Hospital_ID\"),\n        F.col(\"Director_Name\"),\n        F.col(\"Manager_Name\"),\n        F.col(\"Associate_ID\"),\n        F.col(\"Associate_Name\"),\n        F.col(\"Compensation\")\n    )\n\n# COMMAND ----------\n#\n",
                "# Join with Logistics and Growth Opportunities\n    logger.info(\"Joining with logistics and growth opportunities data...\")\n    df_logistics_growth = df_logistics_channels.join(\n        df_growth_opportunities, \n        (F.col(\"Channel_ID\") == F.col(\"Channel_ID\")) & \n        (F.col(\"Channel_Type\") == F.col(\"Channel_Type\")) & \n        (F.col(\"Hospital_ID\") == F.col(\"Hospital_ID\")), \n        \"inner\"\n    )\n\n    df_final = df_filtered.join(\n        df_logistics_growth, F.col(\"Hospital_ID\") == F.col(\"Hospital_ID\"), \"inner\"\n    ).select(\n        F.col(\"Hospital_ID\"),\n        F.col(\"Channel_Type\"),\n        F.col(\"Growth_Opportunities\"),\n        F.col(\"Projected_Growth_Rate\"),\n        F.col(\"Market_Potential\"),\n        F.col(\"Expected_ROI\")\n    )\n\n# COMMAND ----------\n#\n",
                "# Join with Company Goals\n    logger.info(\"Joining with company goals...\")\n    df_final_goals = df_final.join(\n        df_company_goals, \n        (F.col(\"Hospital_ID\") == F.col(\"Hospital_ID\")) & \n        (F.col(\"Channel_Type\") == F.col(\"Channel_Type\")), \n        \"inner\"\n    ).select(\n        F.col(\"Hospital_ID\"),\n        F.col(\"Channel_Type\"),\n        F.col(\"Growth_Target\"),\n        F.col(\"Investment_Planned\")\n    )\n\n# COMMAND ----------\n#\n",
                "# Unique records: Ensuring unique records based on specific fields\n    logger.info(\"Ensuring unique records...\")\n    df_unique = df_final_goals.dropDuplicates([\"Channel_ID\", \"Channel_Type\", \"Hospital_ID\"])\n\n# COMMAND ----------\n#\n",
                "# Projected Revenue Calculation: Calculating projected revenue based on conditions\n    logger.info(\"Calculating projected revenue...\")\n    df_projected_revenue = df_unique.withColumn(\n        \"Projected_Revenue\",\n        F.when(F.col(\"Target_Year\") == 2024, F.col(\"Sales_Revenue\") * (F.col(\"Projected_Sales_Growth_Rate\") / 100))\n        .when(F.col(\"Target_Year\").isin(2025, 2026), F.col(\"Sales_Revenue\") * (1 + F.col(\"Projected_Sales_Growth_Rate\") / 100))\n        .otherwise(F.col(\"Sales_Revenue\"))\n    )\n\n# COMMAND ----------\n#\n",
                "# Write to Unity Catalog target table\n    logger.info(\"Writing the final output to Unity Catalog target table...\")\n    spark.sql(\"DROP TABLE IF EXISTS genai_demo.cardinal_health.target_sales\")\n    df_projected_revenue.write.format(\"delta\").mode(\"overwrite\").saveAsTable(\"genai_demo.cardinal_health.target_sales\")\n\n    logger.info(\"ETL process completed successfully.\")\n\nexcept Exception as e:\n    logger.error(\"An error occurred during the ETL process\", exc_info=True)\n"
            ]
        }
    ],
    "metadata": {
        "kernelspec": {
            "display_name": "Python 3",
            "language": "python",
            "name": "python3"
        },
        "language_info": {
            "codemirror_mode": {
                "name": "ipython",
                "version": 3
            },
            "file_extension": ".py",
            "mimetype": "text/x-python",
            "name": "python",
            "nbconvert_exporter": "python",
            "pygments_lexer": "ipython3",
            "version": "3.x"
        }
    },
    "nbformat": 4,
    "nbformat_minor": 5
}