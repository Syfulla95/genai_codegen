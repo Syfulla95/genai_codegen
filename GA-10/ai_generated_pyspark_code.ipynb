{
    "cells": [
        {
            "cell_type": "code",
            "execution_count": null,
            "metadata": {},
            "outputs": [],
            "source": [
                "import logging\nfrom pyspark.sql import functions as F\nfrom pyspark.sql.types import IntegerType\nfrom datetime import datetime\n\n# Configure logging\nlogging.basicConfig(level=logging.INFO)\nlogger = logging.getLogger(__name__)\n\ntry:\n    # Load data from Unity Catalog tables\n    policy_df = spark.table(\"genai_demo.jnj.policy\")\n    claims_df = spark.table(\"genai_demo.jnj.claims\")\n    demographics_df = spark.table(\"genai_demo.jnj.demographics\")\n    scores_df = spark.table(\"genai_demo.jnj.scores\")\n    aiml_insights_df = spark.table(\"genai_demo.jnj.aiml_insights\")\n\n    # Log the schema of each DataFrame for validation\n    logger.info(\"Policy DataFrame Schema: %s\", policy_df.schema)\n    logger.info(\"Claims DataFrame Schema: %s\", claims_df.schema)\n    logger.info(\"Demographics DataFrame Schema: %s\", demographics_df.schema)\n    logger.info(\"Scores DataFrame Schema: %s\", scores_df.schema)\n    logger.info(\"AI/ML Insights DataFrame Schema: %s\", aiml_insights_df.schema)\n\n    # Select relevant fields from each DataFrame\n    demographics_df = demographics_df.select(\n        \"Customer_ID\", \"Customer_Name\", \"Email\", \"Phone_Number\", \"Address\", \"City\", \"State\", \"Postal_Code\",\n        \"Date_of_Birth\", \"Gender\", \"Marital_Status\", \"Occupation\", \"Income_Level\", \"Customer_Segment\"\n    )\n\n    claims_df = claims_df.select(\n        \"Claim_ID\", \"Policy_ID\", \"Claim_Date\", \"Claim_Type\", \"Claim_Status\", \"Claim_Amount\", \"Claim_Payout\"\n    )\n\n    policy_df = policy_df.select(\n        \"Policy_ID\", \"Customer_ID\", \"Policy_Type\", \"Policy_Status\", \"Policy_Start_Date\", \"Policy_End_Date\",\n        \"Policy_Term\", \"Policy_Premium\", \"Total_Premium_Paid\", \"Renewal_Status\", \"Policy_Addons\"\n    )\n\n    scores_df = scores_df.select(\n        \"Customer_ID\", \"Credit_Score\", \"Fraud_Score\", \"Customer_Risk_Score\"\n    )\n\n    aiml_insights_df = aiml_insights_df.select(\n        \"Customer_ID\", \"Churn_Probability\", \"Next_Best_Offer\", \"Claims_Fraud_Probability\", \"Revenue_Potential\"\n    )\n\n    # Join demographics and policy data on Customer_ID\n    demographics_policy_df = demographics_df.join(policy_df, \"Customer_ID\", \"inner\")\n\n    # Join claims and policy data on Policy_ID\n    claims_policy_df = claims_df.join(policy_df, \"Policy_ID\", \"inner\")\n\n    # Summarize claims data\n    summarized_claims_df = claims_policy_df.groupBy(\"Customer_ID\").agg(\n        F.count(\"Claim_ID\").alias(\"Total_Claims\"),\n        F.count(\"Policy_ID\").alias(\"Policy_Count\"),\n        F.max(\"Claim_Date\").alias(\"Recent_Claim_Date\"),\n        F.avg(\"Claim_Amount\").alias(\"Average_Claim_Amount\")\n    )\n\n    # Join summarized data with combined data on Customer_ID\n    combined_df = demographics_policy_df.join(summarized_claims_df, \"Customer_ID\", \"inner\")\n\n    # Custom Calculations\n    combined_df = combined_df.withColumn(\n        \"Age\", F.floor(F.datediff(F.current_date(), F.to_date(\"Date_of_Birth\", \"yyyy-MM-dd\")) / 365)\n    ).withColumn(\n        \"Claim_To_Premium_Ratio\", F.when(F.col(\"Total_Premium_Paid\") != 0, F.col(\"Average_Claim_Amount\") / F.col(\"Total_Premium_Paid\")).otherwise(0)\n    ).withColumn(\n        \"Claims_Per_Policy\", F.when(F.col(\"Policy_Count\") != 0, F.col(\"Total_Claims\") / F.col(\"Policy_Count\")).otherwise(0)\n    ).withColumn(\n        \"Retention_Rate\", F.lit(0.85)\n    ).withColumn(\n        \"Cross_Sell_Opportunities\", F.lit(\"Multi-Policy Discount, Home Coverage Add-on\")\n    ).withColumn(\n        \"Upsell_Potential\", F.lit(\"Premium Vehicle Coverage\")\n    )\n\n    # Join with AI/ML insights and scores data\n    final_df = combined_df.join(aiml_insights_df, \"Customer_ID\", \"inner\").join(scores_df, \"Customer_ID\", \"inner\")\n\n    # Drop existing table if necessary\n    spark.sql(\"DROP TABLE IF EXISTS genai_demo.jnj.customer_360\")\n\n    # Write the final DataFrame to Unity Catalog table\n    final_df.write.format(\"delta\").mode(\"overwrite\").saveAsTable(\"genai_demo.jnj.customer_360\")\n\n    logger.info(\"ETL process completed successfully and data written to genai_demo.jnj.customer_360\")\n\nexcept Exception as e:\n    logger.error(f\"An error occurred during the ETL process: {e}\")\n    # Additional logging for debugging\n    logger.debug(\"Exception details:\", exc_info=True)\n"
            ]
        }
    ],
    "metadata": {
        "kernelspec": {
            "display_name": "Python 3",
            "language": "python",
            "name": "python3"
        },
        "language_info": {
            "codemirror_mode": {
                "name": "ipython",
                "version": 3
            },
            "file_extension": ".py",
            "mimetype": "text/x-python",
            "name": "python",
            "nbconvert_exporter": "python",
            "pygments_lexer": "ipython3",
            "version": "3.x"
        }
    },
    "nbformat": 4,
    "nbformat_minor": 5
}