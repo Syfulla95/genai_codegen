{
    "cells": [
        {
            "cell_type": "code",
            "execution_count": null,
            "metadata": {},
            "outputs": [],
            "source": [
                "import logging\nfrom pyspark.sql import functions as F\n\n# Set up logging\nlogging.basicConfig(level=logging.INFO)\nlogger = logging.getLogger(__name__)\n\ndef load_table(table_name):\n    try:\n        df = spark.table(table_name)\n        logger.info(f\"Loaded {table_name} with {df.count()} records\")\n        logger.info(f\"{table_name} schema: {df.schema}\")\n        return df\n    except Exception as e:\n        logger.error(f\"Failed to load table {table_name}: {str(e)}\")\n        raise\n\ntry:\n    # Node 1: Load Demographics Data\n    demographics_df = load_table(\"genai_demo.jnj.demographics\")\n\n    # Node 2: Load Claims Data\n    claims_df = load_table(\"genai_demo.jnj.claims\")\n\n    # Node 3: Load Policy Data\n    policy_df = load_table(\"genai_demo.jnj.policy\")\n\n    # Node 4: Load Scores Data\n    scores_df = load_table(\"genai_demo.jnj.scores\")\n\n    # Node 5: Load AI/ML Insights Data\n    aiml_insights_df = load_table(\"genai_demo.jnj.aiml_insights\")\n\n    # Node 6: Select Fields from Demographics\n    demographics_selected_df = demographics_df.select(\"Customer_ID\", \"Gender\", \"Email\")\n    logger.info(\"Selected relevant fields from demographics\")\n\n    # Node 7: Select Fields from Claims\n    claims_selected_df = claims_df.select(\"Claim_ID\", \"Policy_ID\", \"Claim_Amount\", \"Claim_Date\")\n    logger.info(\"Selected relevant fields from claims\")\n\n    # Node 8: Select Fields from Policy\n    policy_selected_df = policy_df.select(\"Policy_ID\", \"Customer_ID\", \"Policy_Premium\", \"Policy_Type\")\n    logger.info(\"Selected relevant fields from policy\")\n\n    # Node 9: Join Demographics and Policy Data\n    demographics_policy_df = demographics_selected_df.join(policy_selected_df, on=\"Customer_ID\", how=\"inner\")\n    logger.info(f\"Joined demographics and policy data with {demographics_policy_df.count()} records\")\n\n    # Node 10: Join Claims and Policy Data\n    claims_policy_df = claims_selected_df.join(policy_selected_df, on=\"Policy_ID\", how=\"inner\")\n    logger.info(f\"Joined claims and policy data with {claims_policy_df.count()} records\")\n\n    # Node 11: Summarize Data\n    summarized_df = claims_policy_df.groupBy(\"Customer_ID\").agg(\n        F.count(\"Claim_ID\").alias(\"Total_Claims\"),\n        F.countDistinct(\"Policy_ID\").alias(\"Policy_Count\"),\n        F.max(\"Claim_Date\").alias(\"Recent_Claim_Date\"),\n        F.avg(\"Claim_Amount\").alias(\"Average_Claim_Amount\")\n    )\n    logger.info(f\"Summarized data with {summarized_df.count()} records\")\n\n    # Node 12: Join Summarized Data with Combined Data\n    combined_df = demographics_policy_df.join(summarized_df, on=\"Customer_ID\", how=\"inner\")\n    logger.info(f\"Joined summarized data with combined data with {combined_df.count()} records\")\n\n    # Node 13: Apply Formula Tool\n    customer_360_df = combined_df.withColumn(\"Claim_To_Premium_Ratio\", F.col(\"Average_Claim_Amount\") / F.col(\"Policy_Premium\")) \\\n                                 .withColumn(\"Claims_Per_Policy\", F.col(\"Total_Claims\") / F.col(\"Policy_Count\")) \\\n                                 .withColumn(\"Retention_Rate\", F.lit(0.85)) \\\n                                 .withColumn(\"Cross_Sell_Opportunities\", F.when(F.col(\"Policy_Count\") > 1, F.lit(\"Yes\")).otherwise(F.lit(\"No\"))) \\\n                                 .withColumn(\"Upsell_Potential\", F.when(F.col(\"Policy_Premium\") < 500, F.lit(\"High\")).otherwise(F.lit(\"Low\")))\n    logger.info(\"Applied formula tool to calculate new fields\")\n\n    # Node 14: Save Customer 360 Data\n    output_path = \"/mnt/output/Customer_360.csv\"\n    customer_360_df.write.mode(\"overwrite\").option(\"header\", \"true\").csv(output_path)\n    logger.info(f\"Saved Customer 360 data to {output_path}\")\n\nexcept Exception as e:\n    logger.error(f\"An error occurred: {str(e)}\")\n    raise\n"
            ]
        }
    ],
    "metadata": {
        "kernelspec": {
            "display_name": "Python 3",
            "language": "python",
            "name": "python3"
        },
        "language_info": {
            "codemirror_mode": {
                "name": "ipython",
                "version": 3
            },
            "file_extension": ".py",
            "mimetype": "text/x-python",
            "name": "python",
            "nbconvert_exporter": "python",
            "pygments_lexer": "ipython3",
            "version": "3.x"
        }
    },
    "nbformat": 4,
    "nbformat_minor": 5
}