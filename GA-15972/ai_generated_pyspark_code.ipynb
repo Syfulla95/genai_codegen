{
    "cells": [
        {
            "cell_type": "code",
            "execution_count": null,
            "metadata": {},
            "outputs": [],
            "source": [
                "import logging\nfrom pyspark.sql import functions as F\nfrom pyspark.sql.types import DoubleType\n\n# Set up logging\nlogging.basicConfig(level=logging.INFO)\nlogger = logging.getLogger(__name__)\n\ntry:\n    # Load data from Unity Catalog tables\n    policy_df = spark.table(\"genai_demo.jnj.policy\")\n    claims_df = spark.table(\"genai_demo.jnj.claims\")\n    demographics_df = spark.table(\"genai_demo.jnj.demographics\")\n    scores_df = spark.table(\"genai_demo.jnj.scores\")\n    aiml_insights_df = spark.table(\"genai_demo.jnj.aiml_insights\")\n\n    # Select relevant fields\n    demographics_df = demographics_df.select(\n        \"Customer_ID\", \"Customer_Name\", \"Email\", \"Phone_Number\", \"Address\", \"City\", \"State\", \"Postal_Code\",\n        \"Date_of_Birth\", \"Gender\", \"Marital_Status\", \"Occupation\", \"Income_Level\", \"Customer_Segment\"\n    )\n    policy_df = policy_df.select(\n        \"Policy_ID\", \"Customer_ID\", \"Policy_Type\", \"Policy_Status\", \"Policy_Start_Date\", \"Policy_End_Date\",\n        \"Policy_Term\", \"Policy_Premium\", \"Total_Premium_Paid\", \"Renewal_Status\", \"Policy_Addons\"\n    )\n    claims_df = claims_df.select(\n        \"Claim_ID\", \"Policy_ID\", \"Claim_Date\", \"Claim_Type\", \"Claim_Status\", \"Claim_Amount\", \"Claim_Payout\"\n    )\n    scores_df = scores_df.select(\"Customer_ID\", \"Credit_Score\", \"Fraud_Score\", \"Customer_Risk_Score\")\n    aiml_insights_df = aiml_insights_df.select(\n        \"Customer_ID\", \"Churn_Probability\", \"Next_Best_Offer\", \"Claims_Fraud_Probability\", \"Revenue_Potential\"\n    )\n\n    # Data Integration\n    demographics_policy_df = demographics_df.join(policy_df, on=\"Customer_ID\", how=\"inner\")\n    claims_policy_df = claims_df.join(policy_df, on=\"Policy_ID\", how=\"inner\")\n\n    # Data Aggregation\n    summarized_df = claims_policy_df.groupBy(\"Customer_ID\").agg(\n        F.count(\"Claim_ID\").alias(\"Total_Claims\"),\n        F.count(\"Policy_ID\").alias(\"Policy_Count\"),\n        F.max(\"Claim_Date\").alias(\"Recent_Claim_Date\"),\n        F.avg(\"Claim_Amount\").alias(\"Average_Claim_Amount\")\n    )\n\n    # Join summarized data with combined data\n    combined_df = demographics_policy_df.join(summarized_df, on=\"Customer_ID\", how=\"inner\")\n\n    # Custom Calculations\n    combined_df = combined_df.withColumn(\n        \"Age\", (F.datediff(F.current_date(), F.to_date(\"Date_of_Birth\", \"yyyy-MM-dd\")) / 365).cast(DoubleType())\n    ).withColumn(\n        \"Claim_To_Premium_Ratio\", F.when(combined_df[\"Total_Premium_Paid\"] != 0, combined_df[\"Average_Claim_Amount\"] / combined_df[\"Total_Premium_Paid\"]).otherwise(0)\n    ).withColumn(\n        \"Claims_Per_Policy\", F.when(combined_df[\"Policy_Count\"] != 0, combined_df[\"Total_Claims\"] / combined_df[\"Policy_Count\"]).otherwise(0)\n    ).withColumn(\n        \"Retention_Rate\", F.lit(0.85)\n    ).withColumn(\n        \"Cross_Sell_Opportunities\", F.lit(\"Multi-Policy Discount, Home Coverage Add-on\")\n    ).withColumn(\n        \"Upsell_Potential\", F.lit(\"Premium Vehicle Coverage\")\n    )\n\n    # Join with AI/ML insights and scores\n    final_df = combined_df.join(aiml_insights_df, on=\"Customer_ID\", how=\"inner\").join(scores_df, on=\"Customer_ID\", how=\"inner\")\n\n    # Ensure schema exists before creating table\n    target_catalog = \"genai_demo\"\n    target_schema = \"guardian\"\n    target_table = \"customer_360\"\n\n    spark.sql(f\"CREATE SCHEMA IF NOT EXISTS {target_catalog}.{target_schema}\")\n    logger.info(f\"Schema {target_catalog}.{target_schema} ensured\")\n\n    # Write to Unity Catalog target table (overwrite mode handles table replacement)\n    # Use schema evolution to handle data type changes\n    final_df.write.format(\"delta\").mode(\"overwrite\").option(\"mergeSchema\", \"true\").saveAsTable(f\"{target_catalog}.{target_schema}.{target_table}\")\n    logger.info(f\"Data written to {target_catalog}.{target_schema}.{target_table}\")\n\nexcept Exception as e:\n    logger.error(f\"Error during ETL process: {str(e)}\")\n"
            ]
        }
    ],
    "metadata": {
        "kernelspec": {
            "display_name": "Python 3",
            "language": "python",
            "name": "python3"
        },
        "language_info": {
            "codemirror_mode": {
                "name": "ipython",
                "version": 3
            },
            "file_extension": ".py",
            "mimetype": "text/x-python",
            "name": "python",
            "nbconvert_exporter": "python",
            "pygments_lexer": "ipython3",
            "version": "3.x"
        }
    },
    "nbformat": 4,
    "nbformat_minor": 5
}