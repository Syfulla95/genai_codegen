{
    "cells": [
        {
            "cell_type": "code",
            "execution_count": null,
            "metadata": {},
            "outputs": [],
            "source": [
                "import logging\nfrom pyspark.sql import functions as F\n\n# Set up logging\nlogging.basicConfig(level=logging.INFO)\nlogger = logging.getLogger(__name__)\n\ntry:\n    # Load data from Unity Catalog tables\n    hospital_stats_df = spark.table(\"catalog.db.hospital_stats_north_america\")\n    sales_associates_df = spark.table(\"catalog.db.sales_associates_employment_details\")\n    compensation_guidelines_df = spark.table(\"catalog.db.compensation_guidelines\")\n    hospital_sales_assignments_df = spark.table(\"catalog.db.hospital_sales_assignments\")\n    logistics_channels_df = spark.table(\"catalog.db.logistics_channels\")\n    growth_opportunities_df = spark.table(\"catalog.db.growth_opportunities\")\n    historical_sales_df = spark.table(\"catalog.db.historical_sales\")\n    company_goals_df = spark.table(\"catalog.db.company_goals\")\n\n    # Join Sales Associates and Compensation Guidelines\n    compensation_df = sales_associates_df.join(\n        compensation_guidelines_df, \"Associate_ID\", \"inner\"\n    ).select(\n        \"Associate_ID\", \"Associate_Name\", \"Base_Salary\", \"Commission_Percentage\", \"Bonus\"\n    ).withColumn(\n        \"Compensation\", F.expr(\"Base_Salary + (Commission_Percentage * Base_Salary) + Bonus\")\n    )\n\n    # Integrate Hospital Stats with Sales Assignments\n    hospital_sales_df = hospital_stats_df.join(\n        hospital_sales_assignments_df, [\"Hospital_ID\", \"Hospital_Name\"], \"inner\"\n    ).select(\n        \"Hospital_ID\", \"Hospital_Name\", \"Director_Name\", \"Manager_Name\", \"Associate_ID\", \"Associate_Name\"\n    )\n\n    # Join Logistics Channels and Growth Opportunities\n    growth_channels_df = logistics_channels_df.join(\n        growth_opportunities_df, [\"Channel_ID\", \"Channel_Type\"], \"inner\"\n    ).select(\n        \"Channel_ID\", \"Channel_Type\", \"Hospital_ID\", \"Growth_Opportunities\", \"Projected_Growth_Rate\"\n    )\n\n    # Calculate Projected Revenue\n    projected_revenue_df = historical_sales_df.withColumn(\n        \"Projected Revenue\", F.expr(\"\"\"\n            CASE \n                WHEN Target_Year = 2024 THEN Sales_Revenue * (Projected_Sales_Growth_Rate / 100)\n                WHEN Target_Year = 2025 THEN Sales_Revenue * (1 + Projected_Sales_Growth_Rate / 100)\n                WHEN Target_Year = 2026 THEN Sales_Revenue * (1 + Projected_Sales_Growth_Rate / 100)\n                ELSE Sales_Revenue\n            END\n        \"\"\")\n    )\n\n    # Generate Target Year Field\n    target_year_df = projected_revenue_df.withColumn(\n        \"Target Year\", F.expr(\"2023 + floor(rand() * 4)\")\n    )\n\n    # Filter Target Year Greater than 2023\n    filtered_df = target_year_df.filter(F.col(\"Target Year\") > 2023)\n\n    # Sort by Target Year\n    sorted_df = filtered_df.orderBy(\"Target Year\")\n\n    # Write the final output to Unity Catalog tables\n    sorted_df.write.format(\"delta\").mode(\"overwrite\").saveAsTable(\"catalog.db.target_sales_report\")\n\n    logger.info(\"ETL process completed successfully.\")\n\nexcept Exception as e:\n    logger.error(f\"Error during ETL process: {e}\")\n"
            ]
        }
    ],
    "metadata": {
        "kernelspec": {
            "display_name": "Python 3",
            "language": "python",
            "name": "python3"
        },
        "language_info": {
            "codemirror_mode": {
                "name": "ipython",
                "version": 3
            },
            "file_extension": ".py",
            "mimetype": "text/x-python",
            "name": "python",
            "nbconvert_exporter": "python",
            "pygments_lexer": "ipython3",
            "version": "3.x"
        }
    },
    "nbformat": 4,
    "nbformat_minor": 5
}