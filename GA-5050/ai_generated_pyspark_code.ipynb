{
    "cells": [
        {
            "cell_type": "code",
            "execution_count": null,
            "metadata": {},
            "outputs": [],
            "source": [
                "import logging\nfrom pyspark.sql.functions import col, when, datediff, current_date, avg, max as spark_max, count\nfrom pyspark.sql import functions as F\n\n# Set up logging\nlogging.basicConfig(level=logging.INFO)\nlogger = logging.getLogger(__name__)\n\ntry:\n    # Load data from Unity Catalog tables\n    demographics_df = spark.table(\"catalog.db.demographics\")\n    policy_df = spark.table(\"catalog.db.policy\")\n    claims_df = spark.table(\"catalog.db.claims\")\n    scores_df = spark.table(\"catalog.db.scores\")\n    aiml_insights_df = spark.table(\"catalog.db.aiml_insights\")\n\n    # Select relevant fields\n    demographics_df = demographics_df.select(\"Customer_ID\", \"Customer_Name\", \"Email\", \"Phone_Number\", \"Address\", \n                                             \"City\", \"State\", \"Postal_Code\", \"Date_of_Birth\", \"Gender\", \n                                             \"Marital_Status\", \"Occupation\", \"Income_Level\", \"Customer_Segment\")\n    \n    policy_df = policy_df.select(\"policy_id\", \"customer_id\", \"policy_type\", \"policy_status\", \"policy_start_date\", \n                                 \"policy_end_date\", \"policy_term\", \"policy_premium\", \"total_premium_paid\", \n                                 \"renewal_status\", \"policy_addons\")\n    \n    claims_df = claims_df.select(\"Claim_ID\", \"Policy_ID\", \"Claim_Date\", \"Claim_Type\", \"Claim_Status\", \n                                 \"Claim_Amount\", \"Claim_Payout\")\n    \n    scores_df = scores_df.select(\"Customer_ID\", \"Credit_Score\", \"Fraud_Score\", \"Customer_Risk_Score\")\n    \n    aiml_insights_df = aiml_insights_df.select(\"Customer_ID\", \"Churn_Probability\", \"Next_Best_Offer\", \n                                               \"Claims_Fraud_Probability\", \"Revenue_Potential\")\n\n    # Join operations\n    joined_df = demographics_df.join(policy_df, demographics_df.Customer_ID == policy_df.customer_id, \"inner\") \\\n                               .drop(policy_df.customer_id)\n    \n    joined_df = joined_df.join(claims_df, joined_df.policy_id == claims_df.Policy_ID, \"inner\") \\\n                         .drop(claims_df.Policy_ID)\n\n    # Summarize claims data\n    summarized_df = joined_df.groupBy(\"Customer_ID\").agg(\n        count(\"Claim_ID\").alias(\"Total_Claims\"),\n        count(\"policy_id\").alias(\"Policy_Count\"),\n        spark_max(\"Claim_Date\").alias(\"Recent_Claim_Date\"),\n        avg(\"Claim_Amount\").alias(\"Average_Claim_Amount\")\n    )\n\n    # Join summarized data\n    final_df = joined_df.join(summarized_df, \"Customer_ID\", \"inner\")\n\n    # Custom calculations\n    final_df = final_df.withColumn(\"Age\", datediff(current_date(), col(\"Date_of_Birth\")) / 365) \\\n                       .withColumn(\"Claim_To_Premium_Ratio\", when(col(\"total_premium_paid\") != 0, \n                                                                 col(\"Claim_Amount\") / col(\"total_premium_paid\")).otherwise(0)) \\\n                       .withColumn(\"Claims_Per_Policy\", when(col(\"Policy_Count\") != 0, \n                                                             col(\"Total_Claims\") / col(\"Policy_Count\")).otherwise(0)) \\\n                       .withColumn(\"Retention_Rate\", F.lit(0.85)) \\\n                       .withColumn(\"Cross_Sell_Opportunities\", F.lit(\"Multi-Policy Discount, Home Coverage Add-on\")) \\\n                       .withColumn(\"Upsell_Potential\", F.lit(\"Premium Vehicle Coverage\"))\n\n    # Join with AI/ML insights and scores\n    final_df = final_df.join(aiml_insights_df, \"Customer_ID\", \"left\") \\\n                       .join(scores_df, \"Customer_ID\", \"left\")\n\n    # Write to Unity Catalog table\n    spark.sql(\"DROP TABLE IF EXISTS catalog.db.customer_360\")\n    final_df.write.format(\"delta\").mode(\"overwrite\").saveAsTable(\"catalog.db.customer_360\")\n\n    logger.info(\"ETL process completed successfully and data written to catalog.db.customer_360\")\n\nexcept Exception as e:\n    logger.error(\"Error occurred during ETL process\", exc_info=True)\n"
            ]
        }
    ],
    "metadata": {
        "kernelspec": {
            "display_name": "Python 3",
            "language": "python",
            "name": "python3"
        },
        "language_info": {
            "codemirror_mode": {
                "name": "ipython",
                "version": 3
            },
            "file_extension": ".py",
            "mimetype": "text/x-python",
            "name": "python",
            "nbconvert_exporter": "python",
            "pygments_lexer": "ipython3",
            "version": "3.x"
        }
    },
    "nbformat": 4,
    "nbformat_minor": 5
}