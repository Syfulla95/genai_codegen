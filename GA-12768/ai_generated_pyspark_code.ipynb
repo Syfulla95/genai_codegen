{
    "cells": [
        {
            "cell_type": "code",
            "execution_count": null,
            "metadata": {},
            "outputs": [],
            "source": [
                "import logging\nfrom pyspark.sql import functions as F\nfrom pyspark.sql.types import IntegerType, StringType, DateType\nfrom datetime import datetime\n\n# Set up logging\nlogging.basicConfig(level=logging.INFO)\nlogger = logging.getLogger(__name__)\n\ntry:\n    # Load data from Unity Catalog tables\n    transactions_df = spark.table(\"genai_demo.sas.transactions\")\n    customers_df = spark.table(\"genai_demo.sas.customers\")\n\n    # Step 1: Filter valid transactions\n    valid_txns_df = transactions_df.filter((F.col(\"Sales\") > 0) & (F.col(\"Product\").isNotNull()))\n\n    # Step 2: Calculate Effective Price\n    trans_step2_df = valid_txns_df.withColumn(\"EffectivePrice\", F.col(\"Sales\") * (1 - F.col(\"Discount\") / 100))\n\n    # Step 3: Calculate Total Value\n    trans_step3_df = trans_step2_df.withColumn(\"TotalValue\", F.col(\"EffectivePrice\") * F.col(\"Quantity\"))\n\n    # Step 4: Join with Customers\n    full_data_df = trans_step3_df.join(customers_df, on=\"CustomerID\", how=\"left\")\n\n    # Step 5: Calculate Tenure Days\n    full_data_df = full_data_df.withColumn(\"TenureDays\", F.datediff(F.col(\"TransDate\"), F.col(\"JoinDate\")))\n\n    # Step 6: Assign Tenure Category\n    trans_step6_df = full_data_df.withColumn(\"TenureCategory\", \n                                             F.when(F.col(\"TenureDays\") < 180, \"New\")\n                                             .when(F.col(\"TenureDays\") < 365, \"Medium\")\n                                             .otherwise(\"Loyal\"))\n\n    # Step 7: Flag High Value Transactions\n    trans_step7_df = trans_step6_df.withColumn(\"HighValueFlag\", F.col(\"TotalValue\") > 2000)\n\n    # Step 8: Assign Product Group\n    trans_step8_df = trans_step7_df.withColumn(\"ProductGroup\", \n                                               F.when(F.col(\"Product\").isin([\"A\", \"C\"]), \"Core\")\n                                               .otherwise(\"Non-Core\"))\n\n    # Step 9: Sort by Product Group\n    sorted_final_data_df = trans_step8_df.orderBy(\"ProductGroup\")\n\n    # Step 10: Standardize Total Value\n    standardized_df = sorted_final_data_df.withColumn(\"StandardizedTotalValue\", \n                                                      (F.col(\"TotalValue\") - F.mean(\"TotalValue\").over(Window.partitionBy(\"ProductGroup\"))) / \n                                                      F.stddev(\"TotalValue\").over(Window.partitionBy(\"ProductGroup\")))\n\n    # Step 11: Flag Outliers\n    enhanced_final_data_df = standardized_df.withColumn(\"OutlierFlag\", F.abs(F.col(\"StandardizedTotalValue\")) > 2)\n\n    # Write final data to Unity Catalog table\n    enhanced_final_data_df.write.format(\"delta\").mode(\"overwrite\").saveAsTable(\"genai_demo.sas.enhanced_final_data\")\n\n    # Generate reports\n    # Frequency Analysis\n    freq_df = enhanced_final_data_df.groupBy(\"TenureCategory\", \"Region\").count()\n    freq_df.show()\n\n    # Mean and Sum Statistics\n    means_df = enhanced_final_data_df.groupBy(\"Region\", \"ProductGroup\").agg(\n        F.mean(\"TotalValue\").alias(\"MeanTotalValue\"),\n        F.sum(\"TotalValue\").alias(\"SumTotalValue\"),\n        F.mean(\"Quantity\").alias(\"MeanQuantity\"),\n        F.sum(\"Quantity\").alias(\"SumQuantity\"),\n        F.mean(\"Sales\").alias(\"MeanSales\"),\n        F.sum(\"Sales\").alias(\"SumSales\")\n    )\n    means_df.show()\n\n    # Correlation Analysis\n    corr_df = enhanced_final_data_df.select(\"Sales\", \"Discount\", \"Quantity\", \"TotalValue\").corr()\n    logger.info(f\"Correlation Matrix: {corr_df}\")\n\n    # Outlier Summary\n    outlier_summary_df = enhanced_final_data_df.groupBy(\"OutlierFlag\").agg(\n        F.mean(\"Sales\").alias(\"MeanSales\"),\n        F.stddev(\"Sales\").alias(\"StdDevSales\"),\n        F.mean(\"TotalValue\").alias(\"MeanTotalValue\"),\n        F.stddev(\"TotalValue\").alias(\"StdDevTotalValue\"),\n        F.mean(\"Quantity\").alias(\"MeanQuantity\"),\n        F.stddev(\"Quantity\").alias(\"StdDevQuantity\")\n    )\n    outlier_summary_df.show()\n\nexcept Exception as e:\n    logger.error(f\"An error occurred: {e}\")\n"
            ]
        }
    ],
    "metadata": {
        "kernelspec": {
            "display_name": "Python 3",
            "language": "python",
            "name": "python3"
        },
        "language_info": {
            "codemirror_mode": {
                "name": "ipython",
                "version": 3
            },
            "file_extension": ".py",
            "mimetype": "text/x-python",
            "name": "python",
            "nbconvert_exporter": "python",
            "pygments_lexer": "ipython3",
            "version": "3.x"
        }
    },
    "nbformat": 4,
    "nbformat_minor": 5
}