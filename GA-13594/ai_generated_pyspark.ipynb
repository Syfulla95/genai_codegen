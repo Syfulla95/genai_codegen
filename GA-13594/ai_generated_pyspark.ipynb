{
    "cells": [
        {
            "cell_type": "code",
            "execution_count": null,
            "metadata": {},
            "outputs": [],
            "source": [
                "import logging\r\nfrom pyspark.sql.functions import col, when, datediff, current_date, avg, count, max as spark_max\r\nfrom pyspark.sql import functions as F\r\n\r\n# Configure logging\r\nlogging.basicConfig(level=logging.INFO)\r\nlogger = logging.getLogger(__name__)\r\n\r\ntry:\r\n    # Load data from Unity Catalog tables\r\n    policy_df = spark.table(\"catalog.db.policy\")\r\n    claims_df = spark.table(\"catalog.db.claims\")\r\n    demographics_df = spark.table(\"catalog.db.demographics\")\r\n    scores_df = spark.table(\"catalog.db.scores\")\r\n    aiml_insights_df = spark.table(\"catalog.db.aiml_insights\")\r\n\r\n    # Select relevant fields\r\n    demographics_df = demographics_df.select(\r\n        \"Customer_ID\", \"Customer_Name\", \"Email\", \"Phone_Number\", \"Address\", \"City\", \"State\", \r\n        \"Postal_Code\", \"Date_of_Birth\", \"Gender\", \"Marital_Status\", \"Occupation\", \r\n        \"Income_Level\", \"Customer_Segment\"\r\n    )\r\n    \r\n    claims_df = claims_df.select(\r\n        \"Claim_ID\", \"Policy_ID\", \"Claim_Date\", \"Claim_Type\", \"Claim_Status\", \r\n        \"Claim_Amount\", \"Claim_Payout\"\r\n    )\r\n    \r\n    policy_df = policy_df.select(\r\n        \"Policy_ID\", \"Customer_ID\", \"Policy_Type\", \"Policy_Status\", \"Policy_Start_Date\", \r\n        \"Policy_End_Date\", \"Policy_Term\", \"Policy_Premium\", \"Total_Premium_Paid\", \r\n        \"Renewal_Status\", \"Policy_Addons\"\r\n    )\r\n    \r\n    scores_df = scores_df.select(\r\n        \"Customer_ID\", \"Credit_Score\", \"Fraud_Score\", \"Customer_Risk_Score\"\r\n    )\r\n    \r\n    aiml_insights_df = aiml_insights_df.select(\r\n        \"Customer_ID\", \"Churn_Probability\", \"Next_Best_Offer\", \r\n        \"Claims_Fraud_Probability\", \"Revenue_Potential\"\r\n    )\r\n\r\n    # Data Integration\r\n    # Join demographics and policy data on Customer_ID\r\n    demo_policy_df = demographics_df.join(policy_df, \"Customer_ID\", \"inner\")\r\n\r\n    # Join the result with claims data on Policy_ID\r\n    demo_policy_claims_df = demo_policy_df.join(claims_df, \"Policy_ID\", \"inner\")\r\n\r\n    # Aggregation and Summarization\r\n    summary_df = demo_policy_claims_df.groupBy(\"Customer_ID\").agg(\r\n        count(\"Claim_ID\").alias(\"Total_Claims\"),\r\n        spark_max(\"Claim_Date\").alias(\"Recent_Claim_Date\"),\r\n        avg(\"Claim_Amount\").alias(\"Average_Claim_Amount\"),\r\n        count(\"Policy_ID\").alias(\"Policy_Count\")\r\n    )\r\n\r\n    # Join summarized data with detailed customer data\r\n    detailed_df = demo_policy_claims_df.join(summary_df, \"Customer_ID\", \"inner\")\r\n\r\n    # Custom Calculations\r\n    detailed_df = detailed_df.withColumn(\r\n        \"Age\", datediff(current_date(), col(\"Date_of_Birth\")) / 365\r\n    ).withColumn(\r\n        \"Claim_To_Premium_Ratio\", when(col(\"Total_Premium_Paid\") != 0, col(\"Claim_Amount\") / col(\"Total_Premium_Paid\")).otherwise(0)\r\n    ).withColumn(\r\n        \"Claims_Per_Policy\", when(col(\"Policy_Count\") != 0, col(\"Total_Claims\") / col(\"Policy_Count\")).otherwise(0)\r\n    ).withColumn(\r\n        \"Retention_Rate\", F.lit(0.85)\r\n    ).withColumn(\r\n        \"Cross_Sell_Opportunities\", F.lit(\"Multi-Policy Discount, Home Coverage Add-on\")\r\n    ).withColumn(\r\n        \"Upsell_Potential\", F.lit(\"Premium Vehicle Coverage\")\r\n    )\r\n\r\n    # Comprehensive Data Consolidation\r\n    final_df = detailed_df.join(aiml_insights_df, \"Customer_ID\", \"inner\").join(scores_df, \"Customer_ID\", \"inner\")\r\n\r\n    # Write the final output to Unity Catalog table\r\n    spark.sql(\"DROP TABLE IF EXISTS catalog.db.final_output\")\r\n    final_df.write.format(\"delta\").mode(\"overwrite\").saveAsTable(\"catalog.db.final_output\")\r\n\r\n    logger.info(\"ETL process completed successfully.\")\r\n\r\nexcept Exception as e:\r\n    logger.error(f\"Error during ETL process: {e}\")\n"
            ]
        }
    ],
    "metadata": {
        "kernelspec": {
            "display_name": "Python 3",
            "language": "python",
            "name": "python3"
        },
        "language_info": {
            "codemirror_mode": {
                "name": "ipython",
                "version": 3
            },
            "file_extension": ".py",
            "mimetype": "text/x-python",
            "name": "python",
            "nbconvert_exporter": "python",
            "pygments_lexer": "ipython3",
            "version": "3.x"
        }
    },
    "nbformat": 4,
    "nbformat_minor": 5
}