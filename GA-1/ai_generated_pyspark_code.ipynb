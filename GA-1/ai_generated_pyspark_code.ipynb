{
    "cells": [
        {
            "cell_type": "code",
            "execution_count": null,
            "metadata": {},
            "outputs": [],
            "source": [
                "import logging\nfrom pyspark.sql import functions as F\nfrom pyspark.sql.types import StringType, DateType, DecimalType\nimport psycopg2\nfrom datetime import datetime, timedelta\n\n# Configure logging\nlogging.basicConfig(level=logging.INFO)\nlogger = logging.getLogger(__name__)\n\n# Securely retrieve credentials for external systems\ndb_user = dbutils.secrets.get(scope=\"my_scope\", key=\"db_user\")\ndb_password = dbutils.secrets.get(scope=\"my_scope\", key=\"db_password\")\ndb_host = dbutils.secrets.get(scope=\"my_scope\", key=\"db_host\")\ndb_port = dbutils.secrets.get(scope=\"my_scope\", key=\"db_port\")\ndb_name = dbutils.secrets.get(scope=\"my_scope\", key=\"db_name\")\n\n# Connect to PostgreSQL database\ntry:\n    conn = psycopg2.connect(\n        dbname=db_name,\n        user=db_user,\n        password=db_password,\n        host=db_host,\n        port=db_port\n    )\n    cursor = conn.cursor()\n    logger.info(\"Connected to PostgreSQL database.\")\nexcept Exception as e:\n    logger.error(f\"Error connecting to PostgreSQL: {e}\")\n    raise\n\n# Load data from Unity Catalog tables\ntry:\n    sales_df = spark.table(\"catalog.source_db.sales\")\n    line_totals_df = spark.table(\"catalog.source_db.line_totals\")\n    logger.info(\"Loaded data from Unity Catalog tables.\")\nexcept Exception as e:\n    logger.error(f\"Error loading data from Unity Catalog: {e}\")\n    raise\n\n# Transformation: DateTime Conversion\nsales_df = sales_df.withColumn(\"SO_AUDAT\", F.to_date(\"SO_AUDAT\", \"yyyy-MM-dd\"))\nline_totals_df = line_totals_df.withColumn(\"FKDAT\", F.to_date(\"FKDAT\", \"yyyy-MM-dd\"))\n\n# Transformation: Field Selection and Renaming\nsales_df = sales_df.select(\n    F.col(\"SO_AUDAT\").alias(\"Sales_Order_Date\"),\n    F.col(\"WERKS\").alias(\"Plant\"),\n    F.col(\"VTWEG\").alias(\"Distribution_Channel\"),\n    F.col(\"ZZFINCLASS\").alias(\"Financial_Class\"),\n    F.col(\"SOLDTO_KUNNR\").alias(\"Sold_To_Customer\"),\n    F.col(\"SHIPTO_KUNNR\").alias(\"Ship_To_Customer\"),\n    F.col(\"VGBEL\").alias(\"Delivery_Note_Number\")\n)\n\n# Custom Calculations\nsales_df = sales_df.withColumn(\"Rush_Order_Fee\", F.col(\"ADDTN_TRANS_FEE_OVRRIDE_ZSRO\"))\nline_totals_df = line_totals_df.withColumn(\"Total_Shipping_Handling\", \n    F.col(\"Sum_Trans_Charge_Amt\") + F.col(\"Sum_RESTOCK_Fee\") + F.col(\"Sum_Special_Hndl_Amt\") +\n    F.col(\"Sum_Vendor_Hndl_Amt\") + F.col(\"Sum_MOC_Amt\") + F.col(\"Sum_Fuel_Surcharge\")\n)\n\n# Multi-Field Formula: Replace null values\nsales_df = sales_df.fillna(0)\nline_totals_df = line_totals_df.fillna(0)\n\n# Join and Union\ncombined_df = sales_df.join(line_totals_df, sales_df[\"Delivery_Note_Number\"] == line_totals_df[\"VGBEL\"], \"inner\")\n\n# Filter: Exclude records with null primary key fields\nfiltered_df = combined_df.filter(F.col(\"FNC_ID\").isNotNull() & F.col(\"FNC_ID\") != \"\")\n\n# Dynamic Rename: Remove prefixes\nrenamed_df = filtered_df.select([F.col(c).alias(c.replace(\"Sum_\", \"\")) for c in filtered_df.columns])\n\n# Write to Unity Catalog target table\ntry:\n    spark.sql(\"DROP TABLE IF EXISTS catalog.target_db.final_output\")\n    renamed_df.write.format(\"delta\").mode(\"overwrite\").saveAsTable(\"catalog.target_db.final_output\")\n    logger.info(\"Data written to Unity Catalog target table.\")\nexcept Exception as e:\n    logger.error(f\"Error writing data to Unity Catalog: {e}\")\n    raise\n\n# Close PostgreSQL connection\ncursor.close()\nconn.close()\nlogger.info(\"PostgreSQL connection closed.\")\n"
            ]
        }
    ],
    "metadata": {
        "kernelspec": {
            "display_name": "Python 3",
            "language": "python",
            "name": "python3"
        },
        "language_info": {
            "codemirror_mode": {
                "name": "ipython",
                "version": 3
            },
            "file_extension": ".py",
            "mimetype": "text/x-python",
            "name": "python",
            "nbconvert_exporter": "python",
            "pygments_lexer": "ipython3",
            "version": "3.x"
        }
    },
    "nbformat": 4,
    "nbformat_minor": 5
}