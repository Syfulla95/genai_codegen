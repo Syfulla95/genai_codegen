{
    "cells": [
        {
            "cell_type": "code",
            "execution_count": null,
            "metadata": {},
            "outputs": [],
            "source": [
                "import logging\nfrom datetime import datetime\nimport pyspark.sql.functions as F\nfrom pyspark.sql import DataFrame\n\n# Configure logging\nlogging.basicConfig(level=logging.INFO)\nlogger = logging.getLogger(__name__)\n\n# Function to handle errors\ndef handle_error(e, context):\n    logger.error(f\"Error occurred in {context}: {str(e)}\")\n    raise e\n\n# Load data from Unity Catalog tables\ntry:\n    hana_prod_df = spark.table(\"catalog.source_db.hana_prod_table\")\n    text_input_channel_df = spark.table(\"catalog.source_db.text_input_channel\")\n    text_input_manual_date_df = spark.table(\"catalog.source_db.text_input_manual_date\")\nexcept Exception as e:\n    handle_error(e, \"Loading Unity Catalog tables\")\n\n# Transformation: DateTime Conversion\ntry:\n    text_input_manual_date_df = text_input_manual_date_df.withColumn(\n        \"StartTXT\", F.date_format(F.col(\"Start Date\"), \"yyyyMMdd\")\n    ).withColumn(\n        \"EndTXT\", F.date_format(F.col(\"End Date\"), \"yyyyMMdd\")\n    )\nexcept Exception as e:\n    handle_error(e, \"DateTime Conversion\")\n\n# Transformation: Field Selection and Renaming\ntry:\n    hana_prod_df = hana_prod_df.select(\n        F.col(\"SO_AUDAT\").alias(\"SO_Date\"),\n        F.col(\"FKDAT\").alias(\"BILL_DATE\"),\n        F.col(\"WERKS\").alias(\"Whs\"),\n        F.col(\"VTWEG\").alias(\"DIST_CHNL_ID\"),\n        F.col(\"ZZFINCLASS\").alias(\"FNC_ID\"),\n        F.col(\"BEZEK\").alias(\"FNC_DESC\"),\n        F.col(\"SOLDTO_KUNNR\").alias(\"SOLDTO\"),\n        F.col(\"SHIPTO_KUNNR\").alias(\"SHIPTO\"),\n        F.col(\"VGBEL\").alias(\"RFRNC_DOC_NUM\"),\n        F.col(\"BILL_ITM_COUNT\"),\n        F.col(\"UNIT_LAND_COST\"),\n        F.col(\"SO_NETWR\"),\n        F.col(\"SO_NETPR\"),\n        F.col(\"FKLMG\"),\n        F.col(\"FKIMG\"),\n        F.col(\"ZTV2\"),\n        F.col(\"ZSS2_M2\"),\n        F.col(\"ZSSH\"),\n        F.col(\"ZSM2\"),\n        F.col(\"ZTR2\"),\n        F.col(\"ZTR1\"),\n        F.col(\"ZSRF\"),\n        F.col(\"ZSRM\"),\n        F.col(\"ZH01\"),\n        F.col(\"ZTHM\"),\n        F.col(\"ZSMO\"),\n        F.col(\"ZSSM_F_ZTHM\"),\n        F.col(\"ZMT1\"),\n        F.col(\"ZVC12M1M3NM\"),\n        F.col(\"ZMGO\"),\n        F.col(\"ZMGB\"),\n        F.col(\"ZMGL\")\n    )\nexcept Exception as e:\n    handle_error(e, \"Field Selection and Renaming\")\n\n# Transformation: Custom Calculations\ntry:\n    hana_prod_df = hana_prod_df.withColumn(\n        \"Rush_Order_Fee\", F.col(\"ADDTN_TRANS_FEE_OVRRIDE_ZSRO\")\n    ).withColumn(\n        \"BIA_SHIP_HNDL_AMT\", F.expr(\n            \"ZTV2 + ZSS2_M2 + ZSSH + ZSM2 + ZTR2 + ZTR1 + ZSRF + ZSRM + ZH01 + ZTHM + ZSMO + ZSSM_F_ZTHM + ZMT1 + ZVC12M1M3NM + ZMGO + ZMGB + ZMGL\"\n        )\n    ).withColumn(\n        \"COE_SHIP_HNDL_AMT\", F.expr(\n            \"ZTV2 + ZSS2_M2 + ZSSH + ZSM2 + ZTR2 + ZTR1 + ZSRF + ZSRM + ZH01 + ZTHM + ZSMO + ZSSM_F_ZTHM + ZMT1 + ZVC12M1M3NM + ZMGO + ZMGB + ZMGL + Rush_Order_Fee\"\n        )\n    )\nexcept Exception as e:\n    handle_error(e, \"Custom Calculations\")\n\n# Transformation: Multi-Field Formula\ntry:\n    hana_prod_df = hana_prod_df.fillna(0)\nexcept Exception as e:\n    handle_error(e, \"Multi-Field Formula\")\n\n# Transformation: Join\ntry:\n    joined_df = hana_prod_df.join(\n        text_input_channel_df,\n        hana_prod_df[\"DIST_CHNL_ID\"] == text_input_channel_df[\"DIST_CHNL_ID\"],\n        \"left\"\n    )\nexcept Exception as e:\n    handle_error(e, \"Join\")\n\n# Transformation: Union\ntry:\n    union_df = joined_df.union(text_input_manual_date_df)\nexcept Exception as e:\n    handle_error(e, \"Union\")\n\n# Transformation: Filter\ntry:\n    filtered_df = union_df.filter(F.col(\"null_yn\") == \"Y\")\nexcept Exception as e:\n    handle_error(e, \"Filter\")\n\n# Transformation: Dynamic Rename\ntry:\n    renamed_df = filtered_df.withColumnRenamed(\"Sum_Invoice_Lines\", \"Invoice_Lines\")\nexcept Exception as e:\n    handle_error(e, \"Dynamic Rename\")\n\n# Output: Write to Unity Catalog target table\ntry:\n    spark.sql(\"DROP TABLE IF EXISTS catalog.target_db.target_table\")\n    renamed_df.write.format(\"delta\").mode(\"overwrite\").saveAsTable(\"catalog.target_db.target_table\")\nexcept Exception as e:\n    handle_error(e, \"Writing to Unity Catalog target table\")\n\nlogger.info(\"ETL process completed successfully.\")\n"
            ]
        }
    ],
    "metadata": {
        "kernelspec": {
            "display_name": "Python 3",
            "language": "python",
            "name": "python3"
        },
        "language_info": {
            "codemirror_mode": {
                "name": "ipython",
                "version": 3
            },
            "file_extension": ".py",
            "mimetype": "text/x-python",
            "name": "python",
            "nbconvert_exporter": "python",
            "pygments_lexer": "ipython3",
            "version": "3.x"
        }
    },
    "nbformat": 4,
    "nbformat_minor": 5
}