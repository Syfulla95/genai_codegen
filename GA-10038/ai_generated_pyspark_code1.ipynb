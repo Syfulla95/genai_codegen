{
    "cells": [
        {
            "cell_type": "code",
            "execution_count": null,
            "metadata": {},
            "outputs": [],
            "source": [
                "# Databricks notebook source\n# COMMAND ----------\n# MAGIC %md\n# MAGIC # ETL Process for Sales Prediction\n# MAGIC This notebook performs an ETL process to predict sales using data from Unity Catalog tables.\n\n# COMMAND ----------\n# MAGIC\n",
                "# Import necessary libraries\nimport logging\nfrom pyspark.sql import functions as F\n\n# COMMAND ----------\n# MAGIC\n",
                "# Configure logging\nlogging.basicConfig(level=logging.INFO)\nlogger = logging.getLogger(__name__)\n\n# COMMAND ----------\n# MAGIC\n",
                "try:\n    # Step 1: Data Loading\n    logger.info(\"Loading data from Unity Catalog tables...\")\n    hospital_stats_df = spark.table(\"genai_demo.cardinal_health.hospitals_stats\")\n    hospital_assignments_df = spark.table(\"genai_demo.cardinal_health.hospital_assignments\")\n    employment_details_df = spark.table(\"genai_demo.cardinal_health.associates_employment\")\n    compensation_guidelines_df = spark.table(\"genai_demo.cardinal_health.compensation_guidelines\")\n    logistics_channels_df = spark.table(\"genai_demo.cardinal_health.logistics_channels\")\n    growth_opportunities_df = spark.table(\"genai_demo.cardinal_health.growth_opportunities\")\n    company_goals_df = spark.table(\"genai_demo.cardinal_health.company_goals_1\")\n    historical_sales_df = spark.table(\"genai_demo.cardinal_health.historical_sales_trending\")\n    third_party_trends_df = spark.table(\"genai_demo.cardinal_health.third_party_trends\")\n\n# COMMAND ----------\n# MAGIC\n",
                "# Step 2: Data Integration\n    logger.info(\"Performing data integration...\")\n    hospital_sales_df = hospital_stats_df.join(\n        hospital_assignments_df,\n        [\"Hospital_ID\", \"Hospital_Name\"],\n        \"inner\"\n    )\n\n    employment_compensation_df = employment_details_df.join(\n        compensation_guidelines_df,\n        \"Associate_ID\",\n        \"inner\"\n    )\n\n    combined_df = employment_compensation_df.join(\n        hospital_sales_df,\n        [\"Associate_ID\", \"Associate_Name\"],\n        \"inner\"\n    )\n\n# COMMAND ----------\n# MAGIC\n",
                "# Step 3: Custom Calculations\n    logger.info(\"Performing custom calculations...\")\n    compensation_df = combined_df.withColumn(\n        \"Compensation\",\n        F.expr(\"Base_Salary + (Commission_Percentage * Base_Salary) + Bonus\")\n    )\n\n    projected_growth_df = growth_opportunities_df.withColumn(\n        \"projected_sales_growth_rate\",\n        F.expr(\"Projected_Growth_Rate * (Target_Year - 2023)\")\n    )\n\n    projected_investments_df = company_goals_df.withColumn(\n        \"projected_investments\",\n        F.expr(\"Investment_Planned * projected_sales_growth_rate\")\n    )\n\n    projected_revenue_df = historical_sales_df.withColumn(\n        \"Projected_Revenue\",\n        F.expr(\"Sales_Revenue * projected_sales_growth_rate\")\n    )\n\n# COMMAND ----------\n# MAGIC\n",
                "# Step 4: Data Cleansing and Standardization\n    logger.info(\"Ensuring data integrity and relevance...\")\n    unique_df = projected_revenue_df.dropDuplicates([F.col(\"Year\"), F.col(\"Channel_Type\"), F.col(\"Sales_Revenue\")])\n\n# COMMAND ----------\n# MAGIC\n",
                "# Step 5: Predictive Modeling\n    logger.info(\"Generating future year projections...\")\n    target_years_df = spark.createDataFrame(\n        [(year,) for year in range(2023, 2027)],\n        [\"Target_Year\"]\n    )\n\n# COMMAND ----------\n# MAGIC\n",
                "# Step 6: Final Output\n    logger.info(\"Filtering, sorting, and selecting fields for final output...\")\n    filtered_df = unique_df.filter(F.col(\"Target_Year\") > 2023)\n    sorted_df = filtered_df.orderBy(\"Target_Year\")\n    final_output_df = sorted_df.select(\n        \"Channel_Type\", \"Hospital_ID\", \"Market_Trend\", \"Political_Impact\", \"Economic_Impact\",\n        \"Target_Year\", \"projected_sales_growth_rate\", \"projected_investments\", \"Projected_Revenue\"\n    )\n\n# COMMAND ----------\n# MAGIC\n",
                "# Step 7: Save Final Output\n    logger.info(\"Saving final output to Unity Catalog table...\")\n    spark.sql(\"DROP TABLE IF EXISTS genai_demo.cardinal_health.sales_prediction_output\")\n    final_output_df.write.format(\"delta\").mode(\"overwrite\").saveAsTable(\"genai_demo.cardinal_health.sales_prediction_output\")\n\n    logger.info(\"ETL process completed successfully.\")\n\nexcept Exception as e:\n    logger.error(f\"An error occurred during the ETL process: {e}\")\n    raise\n"
            ]
        }
    ],
    "metadata": {
        "kernelspec": {
            "display_name": "Python 3",
            "language": "python",
            "name": "python3"
        },
        "language_info": {
            "codemirror_mode": {
                "name": "ipython",
                "version": 3
            },
            "file_extension": ".py",
            "mimetype": "text/x-python",
            "name": "python",
            "nbconvert_exporter": "python",
            "pygments_lexer": "ipython3",
            "version": "3.x"
        }
    },
    "nbformat": 4,
    "nbformat_minor": 5
}