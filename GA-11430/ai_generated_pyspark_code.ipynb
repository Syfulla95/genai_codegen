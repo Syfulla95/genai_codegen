{
    "cells": [
        {
            "cell_type": "code",
            "execution_count": null,
            "metadata": {},
            "outputs": [],
            "source": [
                "import logging\nfrom pyspark.sql import functions as F\nfrom pyspark.sql.types import StructType, StructField, StringType, FloatType, DateType\nimport psycopg2\nfrom pyspark.sql import DataFrame\n\n# Configure logging\nlogging.basicConfig(level=logging.INFO)\nlogger = logging.getLogger(__name__)\n\n# Define schema for the flat file\nflat_file_schema = StructType([\n    StructField(\"AverageRate\", FloatType(), True),\n    StructField(\"CurrencyID\", StringType(), True),\n    StructField(\"CurrencyDate\", DateType(), True),\n    StructField(\"EndOfDayRate\", FloatType(), True)\n])\n\n# Load data from the flat file source\ntry:\n    logger.info(\"Loading data from flat file source.\")\n    flat_file_df = spark.read.format(\"csv\") \\\n        .option(\"header\", \"true\") \\\n        .schema(flat_file_schema) \\\n        .load(\"/Volumes/genai_demo/ssis/ssis/SampleCurrencyData.txt\")\n    logger.info(\"Flat file data loaded successfully.\")\nexcept Exception as e:\n    logger.error(f\"Error loading flat file data: {e}\")\n    raise\n\n# Load DimCurrency1 table from Unity Catalog\ntry:\n    logger.info(\"Loading DimCurrency1 table from Unity Catalog.\")\n    dim_currency_df = spark.table(\"sqlserver_catalog.dbo.dimcurrency1\")\n    logger.info(\"DimCurrency1 table loaded successfully.\")\nexcept Exception as e:\n    logger.error(f\"Error loading DimCurrency1 table: {e}\")\n    raise\n\n# Load DimDate1 table from Unity Catalog\ntry:\n    logger.info(\"Loading DimDate1 table from Unity Catalog.\")\n    dim_date_df = spark.table(\"sqlserver_catalog.dbo.dimdate1\")\n    logger.info(\"DimDate1 table loaded successfully.\")\nexcept Exception as e:\n    logger.error(f\"Error loading DimDate1 table: {e}\")\n    raise\n\n# Perform lookup transformation for Currency Key\ntry:\n    logger.info(\"Performing lookup transformation for Currency Key.\")\n    enriched_currency_df = flat_file_df.join(\n        dim_currency_df,\n        flat_file_df.CurrencyID == dim_currency_df.CurrencyAlternateKey,\n        \"inner\"\n    ).select(\n        flat_file_df[\"*\"],\n        dim_currency_df[\"CurrencyAlternateKey\"]\n    )\n    logger.info(\"Currency Key lookup transformation completed successfully.\")\nexcept Exception as e:\n    logger.error(f\"Error in Currency Key lookup transformation: {e}\")\n    raise\n\n# Perform lookup transformation for Date Key\ntry:\n    logger.info(\"Performing lookup transformation for Date Key.\")\n    enriched_date_df = enriched_currency_df.join(\n        dim_date_df,\n        enriched_currency_df.CurrencyDate == dim_date_df.FullDateAlternateKey,\n        \"inner\"\n    ).select(\n        enriched_currency_df[\"*\"],\n        dim_date_df[\"EnglishDayNameOfWeek\"],\n        dim_date_df[\"EnglishMonthName\"],\n        dim_date_df[\"DateKey\"],\n        dim_date_df[\"FullDateAlternateKey\"]\n    )\n    logger.info(\"Date Key lookup transformation completed successfully.\")\nexcept Exception as e:\n    logger.error(f\"Error in Date Key lookup transformation: {e}\")\n    raise\n\n# Drop the existing target table if it exists\ntry:\n    logger.info(\"Dropping existing target table if it exists.\")\n    spark.sql(\"DROP TABLE IF EXISTS sqlserver_catalog.dbo.result\")\n    logger.info(\"Existing target table dropped successfully.\")\nexcept Exception as e:\n    logger.error(f\"Error dropping existing target table: {e}\")\n    raise\n\n# Write the transformed data to the target Unity Catalog table\ntry:\n    logger.info(\"Writing transformed data to the target Unity Catalog table.\")\n    enriched_date_df.write.format(\"delta\").mode(\"overwrite\").saveAsTable(\"sqlserver_catalog.dbo.result\")\n    logger.info(\"Transformed data written to target table successfully.\")\nexcept Exception as e:\n    logger.error(f\"Error writing transformed data to target table: {e}\")\n    raise\n\nlogger.info(\"ETL process completed successfully.\")\n"
            ]
        }
    ],
    "metadata": {
        "kernelspec": {
            "display_name": "Python 3",
            "language": "python",
            "name": "python3"
        },
        "language_info": {
            "codemirror_mode": {
                "name": "ipython",
                "version": 3
            },
            "file_extension": ".py",
            "mimetype": "text/x-python",
            "name": "python",
            "nbconvert_exporter": "python",
            "pygments_lexer": "ipython3",
            "version": "3.x"
        }
    },
    "nbformat": 4,
    "nbformat_minor": 5
}