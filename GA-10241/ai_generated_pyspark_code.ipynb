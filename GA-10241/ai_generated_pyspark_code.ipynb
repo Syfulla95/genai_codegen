{
    "cells": [
        {
            "cell_type": "code",
            "execution_count": null,
            "metadata": {},
            "outputs": [],
            "source": [
                "# Databricks notebook source\n# COMMAND ----------\n# MAGIC %md\n# MAGIC # Data Processing and Analysis with PySpark\n# MAGIC This notebook performs data integration, custom calculations, data cleansing, and output generation using PySpark.\n\n# COMMAND ----------\n# MAGIC\n",
                "# Import necessary libraries\nimport logging\nfrom pyspark.sql import functions as F\nfrom pyspark.sql.types import DoubleType\n\n# COMMAND ----------\n# MAGIC\n",
                "# Configure logging\nlogging.basicConfig(level=logging.INFO)\nlogger = logging.getLogger(__name__)\n\n# COMMAND ----------\n# MAGIC\n",
                "try:\n    # Load data from Unity Catalog tables\n    hospital_stats_df = spark.table(\"genai_demo.cardinal_health.hospital_stats_north_america\")\n    sales_assignments_df = spark.table(\"genai_demo.cardinal_health.HospitalSales_Assignments\")\n    employment_details_df = spark.table(\"genai_demo.cardinal_health.SalesAssociates_EmploymentDetails\")\n    compensation_guidelines_df = spark.table(\"genai_demo.cardinal_health.Compensation_Guidelines\")\n    logistics_channels_df = spark.table(\"genai_demo.cardinal_health.Logistics_Channels\")\n    growth_opportunities_df = spark.table(\"genai_demo.cardinal_health.Growth_Opportunities\")\n    company_goals_df = spark.table(\"genai_demo.cardinal_health.Company_Goals\")\n    historical_sales_df = spark.table(\"genai_demo.cardinal_health.Historical_Sales\")\n    third_party_sales_trends_df = spark.table(\"genai_demo.cardinal_health.ThirdParty_SalesTrends\")\n\n    logger.info(\"Data loaded successfully from Unity Catalog tables.\")\n\n# COMMAND ----------\n# MAGIC\n",
                "# Step 2: Data Integration\n    # Join hospital statistics with sales assignments\n    hospital_sales_df = hospital_stats_df.join(\n        sales_assignments_df,\n        on=[\"Hospital_ID\", \"Hospital_Name\"],\n        how=\"inner\"\n    )\n\n    # Join employment details with compensation guidelines\n    employment_compensation_df = employment_details_df.join(\n        compensation_guidelines_df,\n        on=\"Associate_ID\",\n        how=\"inner\"\n    )\n\n    # Join the results of the previous joins\n    combined_df = hospital_sales_df.join(\n        employment_compensation_df,\n        on=[\"Associate_ID\", \"Associate_Name\"],\n        how=\"inner\"\n    )\n\n    logger.info(\"Data integration completed.\")\n\n# COMMAND ----------\n# MAGIC\n",
                "# Step 3: Custom Calculations\n    # Calculate total compensation based on base salary, commission, and bonus\n    combined_df = combined_df.withColumn(\n        \"Compensation\",\n        F.col('Base_Salary') + \n        (F.col('Commission_Percentage') * F.col('Base_Salary')) + \n        F.col('Bonus')\n    )\n\n    # Join logistics channels with growth opportunities\n    logistics_growth_df = logistics_channels_df.join(\n        growth_opportunities_df,\n        on=[\"Channel_ID\", \"Channel_Type\", \"Hospital_ID\"],\n        how=\"inner\"\n    )\n\n    # Join the results of the compensation calculation with logistics and growth data\n    final_df = combined_df.join(\n        logistics_growth_df,\n        on=\"Hospital_ID\",\n        how=\"inner\"\n    )\n\n    # Ensure unique records\n    unique_df = final_df.dropDuplicates([\"Hospital_ID\", \"Channel_Type\", \"Projected_Growth_Rate\"])\n\n    # Join the results of the previous unique operation with company goals\n    final_df = unique_df.join(\n        company_goals_df,\n        on=[\"Hospital_ID\", \"Channel_Type\"],\n        how=\"inner\"\n    )\n\n    # Define condition for target year\n    target_year_condition = F.col('Target_Year') > 2023\n\n    # Calculate projected sales growth rate based on target year condition\n    final_df = final_df.withColumn(\n        \"projected_sales_growth_rate\",\n        F.when(target_year_condition, F.col('Projected_Growth_Rate')).otherwise(0)\n    )\n\n    # Calculate projected investments based on target year condition\n    final_df = final_df.withColumn(\n        \"projected_investments\",\n        F.when(target_year_condition, F.col('Investment_Planned')).otherwise(0)\n    )\n\n    # Calculate projected revenue based on target year condition\n    final_df = final_df.withColumn(\n        \"Projected_Revenue\",\n        F.when(target_year_condition, F.col('Sales_Revenue') * F.col('projected_sales_growth_rate')).otherwise(0)\n    )\n\n    logger.info(\"Custom calculations completed.\")\n\n# COMMAND ----------\n# MAGIC\n",
                "# Step 4: Data Cleansing and Standardization\n    # Filter records based on the target year\n    filtered_df = final_df.filter(target_year_condition)\n\n    # Select specific fields for output, defining the schema contract\n    output_df = filtered_df.select(\n        F.col(\"Channel_Type\"),\n        F.col(\"Hospital_ID\"),\n        F.col(\"Market_Trend\"),\n        F.col(\"Political_Impact\"),\n        F.col(\"Economic_Impact\"),\n        F.col(\"Target_Year\"),\n        F.col(\"projected_sales_growth_rate\"),\n        F.col(\"projected_investments\"),\n        F.col(\"Projected_Revenue\")\n    )\n\n# COMMAND ----------\n# MAGIC\n",
                "# Step 5: Aggregation and Sorting\n    # Sort records by Target Year\n    sorted_df = output_df.orderBy(\"Target_Year\")\n\n    logger.info(\"Data cleansing, standardization, and sorting completed.\")\n\n# COMMAND ----------\n# MAGIC\n",
                "# Step 6: Output Generation\n    # Write the final output to a Delta table\n    spark.sql(\"DROP TABLE IF EXISTS genai_demo.cardinal_health.sales_prediction_output\")\n    sorted_df.write.format(\"delta\").mode(\"overwrite\").saveAsTable(\"genai_demo.cardinal_health.sales_prediction_output\")\n\n    logger.info(\"Output generated and saved to Unity Catalog table.\")\n\nexcept Exception as e:\n    logger.error(f\"An error occurred: {e}\")\n    raise\n"
            ]
        }
    ],
    "metadata": {
        "kernelspec": {
            "display_name": "Python 3",
            "language": "python",
            "name": "python3"
        },
        "language_info": {
            "codemirror_mode": {
                "name": "ipython",
                "version": 3
            },
            "file_extension": ".py",
            "mimetype": "text/x-python",
            "name": "python",
            "nbconvert_exporter": "python",
            "pygments_lexer": "ipython3",
            "version": "3.x"
        }
    },
    "nbformat": 4,
    "nbformat_minor": 5
}