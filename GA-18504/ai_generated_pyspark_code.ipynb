{
    "cells": [
        {
            "cell_type": "code",
            "execution_count": null,
            "metadata": {},
            "outputs": [],
            "source": [
                "import logging\nfrom datetime import datetime\nfrom pyspark.sql import functions as F\nfrom pyspark.sql.types import IntegerType, StringType\n\n# Configure logging\nlogging.basicConfig(level=logging.INFO)\nlogger = logging.getLogger(__name__)\n\ntry:\n    # Load data from Unity Catalog tables\n    demographics_df = spark.table(\"catalog.source_db.demographics\")\n    policy_df = spark.table(\"catalog.source_db.policy\")\n    claims_df = spark.table(\"catalog.source_db.claims\")\n    scores_df = spark.table(\"catalog.source_db.scores\")\n    aiml_insights_df = spark.table(\"catalog.source_db.aiml_insights\")\n\n    # Select relevant fields from demographics data\n    demographics_selected_df = demographics_df.select(\n        \"Customer_ID\", \"Customer_Name\", \"Email\", \"Phone_Number\", \"Address\", \"City\", \"State\", \"Postal_Code\",\n        \"Date_of_Birth\", \"Gender\", \"Marital_Status\", \"Occupation\", \"Income_Level\", \"Customer_Segment\"\n    )\n\n    # Select relevant fields from policy data\n    policy_selected_df = policy_df.select(\n        \"policy_id\", \"customer_id\", \"policy_type\", \"policy_status\", \"policy_start_date\", \"policy_end_date\",\n        \"policy_term\", \"policy_premium\", \"total_premium_paid\", \"renewal_status\", \"policy_addons\"\n    )\n\n    # Select relevant fields from claims data\n    claims_selected_df = claims_df.select(\n        \"Claim_ID\", \"Policy_ID\", \"Claim_Date\", \"Claim_Type\", \"Claim_Status\", \"Claim_Amount\", \"Claim_Payout\"\n    )\n\n    # Select relevant fields from scores data\n    scores_selected_df = scores_df.select(\n        \"Customer_ID\", \"Credit_Score\", \"Fraud_Score\", \"Customer_Risk_Score\"\n    )\n\n    # Select relevant fields from AIML insights data\n    aiml_insights_selected_df = aiml_insights_df.select(\n        \"Customer_ID\", \"Churn_Probability\", \"Next_Best_Offer\", \"Claims_Fraud_Probability\", \"Revenue_Potential\"\n    )\n\n    # Join demographics and policy data on customer ID\n    demographics_policy_joined_df = demographics_selected_df.join(\n        policy_selected_df, demographics_selected_df.Customer_ID == policy_selected_df.customer_id, \"inner\"\n    )\n\n    # Join the result with claims data on policy ID\n    demographics_policy_claims_joined_df = demographics_policy_joined_df.join(\n        claims_selected_df, demographics_policy_joined_df.policy_id == claims_selected_df.Policy_ID, \"inner\"\n    )\n\n    # Summarize data to calculate total claims, policy count, recent claim date, and average claim amount\n    summarized_df = demographics_policy_claims_joined_df.groupBy(\"Customer_ID\").agg(\n        F.count(\"Claim_ID\").alias(\"Total_Claims\"),\n        F.count(\"policy_id\").alias(\"Policy_Count\"),\n        F.max(\"Claim_Date\").alias(\"Recent_Claim_Date\"),\n        F.avg(\"Claim_Amount\").alias(\"Average_Claim_Amount\")\n    )\n\n    # Join summarized data with detailed data\n    detailed_joined_df = demographics_policy_claims_joined_df.join(\n        summarized_df, \"Customer_ID\", \"inner\"\n    )\n\n    # Custom calculations\n    detailed_joined_df = detailed_joined_df.withColumn(\n        \"Age\", F.datediff(F.current_date(), F.to_date(\"Date_of_Birth\", \"yyyy-MM-dd\")) / 365\n    ).withColumn(\n        \"Claim_To_Premium_Ratio\", F.when(\n            detailed_joined_df.total_premium_paid != 0,\n            detailed_joined_df.Claim_Amount / detailed_joined_df.total_premium_paid\n        ).otherwise(0)\n    ).withColumn(\n        \"Claims_Per_Policy\", F.when(\n            detailed_joined_df.Policy_Count != 0,\n            detailed_joined_df.Total_Claims / detailed_joined_df.Policy_Count\n        ).otherwise(0)\n    ).withColumn(\n        \"Retention_Rate\", F.lit(0.85)\n    ).withColumn(\n        \"Cross_Sell_Opportunities\", F.lit(\"Multi-Policy Discount, Home Coverage Add-on\")\n    ).withColumn(\n        \"Upsell_Potential\", F.lit(\"Premium Vehicle Coverage\")\n    )\n\n    # Join multiple sources including AI/ML insights and scores\n    final_joined_df = detailed_joined_df.join(\n        aiml_insights_selected_df, \"Customer_ID\", \"inner\"\n    ).join(\n        scores_selected_df, \"Customer_ID\", \"inner\"\n    )\n\n    # Drop existing table if necessary\n    spark.sql(\"DROP TABLE IF EXISTS catalog.target_db.customer_360\")\n\n    # Write the processed data to Unity Catalog table using Delta format\n    final_joined_df.write.format(\"delta\").mode(\"overwrite\").saveAsTable(\"catalog.target_db.customer_360\")\n\n    logger.info(\"ETL process completed successfully.\")\n\nexcept Exception as e:\n    logger.error(f\"An error occurred during the ETL process: {e}\")\n"
            ]
        }
    ],
    "metadata": {
        "kernelspec": {
            "display_name": "Python 3",
            "language": "python",
            "name": "python3"
        },
        "language_info": {
            "codemirror_mode": {
                "name": "ipython",
                "version": 3
            },
            "file_extension": ".py",
            "mimetype": "text/x-python",
            "name": "python",
            "nbconvert_exporter": "python",
            "pygments_lexer": "ipython3",
            "version": "3.x"
        }
    },
    "nbformat": 4,
    "nbformat_minor": 5
}