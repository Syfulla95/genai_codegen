{
    "cells": [
        {
            "cell_type": "code",
            "execution_count": null,
            "metadata": {},
            "outputs": [],
            "source": [
                "# Databricks notebook source\n# COMMAND ----------\n# MAGIC %md\n# MAGIC # Data Processing with PySpark\n# MAGIC This notebook demonstrates loading data from a flat file and SQL Server, performing transformations, and writing the results back to a SQL Server table.\n\n# COMMAND ----------\n# MAGIC\n",
                "# Import necessary libraries\nimport logging\nfrom pyspark.sql import functions as F\n\n# Initialize logging\nlogging.basicConfig(level=logging.INFO)\nlogger = logging.getLogger(__name__)\n\n# COMMAND ----------\n# MAGIC\n",
                "# Securely retrieve credentials using Databricks utilities\nsql_server_user = dbutils.secrets.get(scope=\"my_scope\", key=\"sql_server_user\")\nsql_server_password = dbutils.secrets.get(scope=\"my_scope\", key=\"sql_server_password\")\n\n# COMMAND ----------\n# MAGIC\n",
                "# Load Flat File Data\ndef load_flat_file_data():\n    try:\n        logger.info(\"Loading flat file data into DataFrame.\")\n        df = spark.read.format(\"csv\") \\\n            .option(\"header\", \"true\") \\\n            .option(\"inferSchema\", \"true\") \\\n            .load(\"dbfs:/FileStore/tables/SampleCurrencyData.txt\")\n        logger.info(\"Flat file data loaded successfully.\")\n        return df\n    except Exception as e:\n        logger.error(f\"Error loading flat file data: {e}\")\n        raise\n\nflat_file_df = load_flat_file_data()\n\n# COMMAND ----------\n# MAGIC\n",
                "# Load SQL Server Data for Lookups\ndef load_sql_server_data():\n    try:\n        logger.info(\"Loading DimCurrency data from SQL Server.\")\n        dim_currency_df = spark.read.format(\"jdbc\") \\\n            .option(\"url\", \"jdbc:sqlserver://localhost;databaseName=AdventureWorksDW2012\") \\\n            .option(\"dbtable\", \"dbo.DimCurrency\") \\\n            .option(\"user\", sql_server_user) \\\n            .option(\"password\", sql_server_password) \\\n            .load()\n        logger.info(\"DimCurrency data loaded successfully.\")\n\n        logger.info(\"Loading DimDate data from SQL Server.\")\n        dim_date_df = spark.read.format(\"jdbc\") \\\n            .option(\"url\", \"jdbc:sqlserver://localhost;databaseName=AdventureWorksDW2012\") \\\n            .option(\"dbtable\", \"dbo.DimDate\") \\\n            .option(\"user\", sql_server_user) \\\n            .option(\"password\", sql_server_password) \\\n            .load()\n        logger.info(\"DimDate data loaded successfully.\")\n        \n        return dim_currency_df, dim_date_df\n    except Exception as e:\n        logger.error(f\"Error loading data from SQL Server: {e}\")\n        raise\n\ndim_currency_df, dim_date_df = load_sql_server_data()\n\n# COMMAND ----------\n# MAGIC\n",
                "# Perform Lookup Transformations\ndef perform_lookup_transformations(flat_file_df, dim_currency_df, dim_date_df):\n    try:\n        logger.info(\"Performing lookup transformations.\")\n        enriched_df = flat_file_df \\\n            .join(dim_currency_df, F.col('CurrencyID') == F.col('CurrencyAlternateKey'), \"inner\") \\\n            .join(dim_date_df, F.col('CurrencyDate') == F.col('FullDateAlternateKey'), \"inner\") \\\n            .select(\n                F.col('CurrencyKey').alias('CurrencyKey'),\n                F.col('DateKey').alias('DateKey'),\n                F.col('AverageRate').alias('AverageRate'),\n                F.col('EndOfDayRate').alias('EndOfDayRate')\n            )\n        logger.info(\"Lookup transformations completed successfully.\")\n        return enriched_df\n    except Exception as e:\n        logger.error(f\"Error during lookup transformations: {e}\")\n        raise\n\nenriched_df = perform_lookup_transformations(flat_file_df, dim_currency_df, dim_date_df)\n\n# COMMAND ----------\n# MAGIC\n",
                "# Load Transformed Data into FactCurrency Table\ndef load_transformed_data(enriched_df):\n    try:\n        logger.info(\"Loading transformed data into FactCurrency table.\")\n        enriched_df.write.format(\"jdbc\") \\\n            .option(\"url\", \"jdbc:sqlserver://localhost;databaseName=AdventureWorksDW2012\") \\\n            .option(\"dbtable\", \"dbo.FactCurrency\") \\\n            .option(\"user\", sql_server_user) \\\n            .option(\"password\", sql_server_password) \\\n            .mode(\"append\") \\\n            .save()\n        logger.info(\"Data loaded into FactCurrency table successfully.\")\n    except Exception as e:\n        logger.error(f\"Error loading data into FactCurrency table: {e}\")\n        raise\n\nload_transformed_data(enriched_df)\n"
            ]
        }
    ],
    "metadata": {
        "kernelspec": {
            "display_name": "Python 3",
            "language": "python",
            "name": "python3"
        },
        "language_info": {
            "codemirror_mode": {
                "name": "ipython",
                "version": 3
            },
            "file_extension": ".py",
            "mimetype": "text/x-python",
            "name": "python",
            "nbconvert_exporter": "python",
            "pygments_lexer": "ipython3",
            "version": "3.x"
        }
    },
    "nbformat": 4,
    "nbformat_minor": 5
}