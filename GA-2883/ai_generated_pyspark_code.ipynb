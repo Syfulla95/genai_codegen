{
    "cells": [
        {
            "cell_type": "code",
            "execution_count": null,
            "metadata": {},
            "outputs": [],
            "source": [
                "# Databricks notebook source\n# COMMAND ----------\nimport logging\nfrom pyspark.sql import functions as F\nfrom pyspark.sql.functions import col, count, max, avg, when, lit, datediff, current_date\n\n# COMMAND ----------\n# Configure logging\nlogging.basicConfig(level=logging.INFO)\nlogger = logging.getLogger(__name__)\n\n# COMMAND ----------\ntry:\n    # Data Loading\n    logger.info(\"Loading data from Unity Catalog tables...\")\n    policy_df = spark.table(\"genai_demo.jnj.policy\")\n    claims_df = spark.table(\"genai_demo.jnj.claims\")\n    demographics_df = spark.table(\"genai_demo.jnj.demographics\")\n    scores_df = spark.table(\"genai_demo.jnj.scores\")\n    aiml_insights_df = spark.table(\"genai_demo.jnj.aiml_insights\")\n\n    # COMMAND ----------\n    # Data Selection and Standardization\n    logger.info(\"Selecting and standardizing relevant fields...\")\n    selected_demographics_df = demographics_df.select(\n        \"Customer_ID\", \"Customer_Name\", \"Email\", \"Phone_Number\", \"Address\", \"City\", \"State\", \"Postal_Code\",\n        \"Date_of_Birth\", \"Gender\", \"Marital_Status\", \"Occupation\", \"Income_Level\", \"Customer_Segment\"\n    )\n\n    # Cache the selected demographics DataFrame as it is used multiple times\n    selected_demographics_df.cache()\n\n    # COMMAND ----------\n    # Data Integration\n    logger.info(\"Integrating datasets...\")\n    customer_policy_df = selected_demographics_df.join(policy_df, \"Customer_ID\", \"inner\")\n    customer_policy_claims_df = customer_policy_df.join(claims_df, \"Policy_ID\", \"inner\")\n\n    # COMMAND ----------\n    # Data Aggregation and Summarization\n    logger.info(\"Aggregating data to calculate key metrics...\")\n    aggregated_df = customer_policy_claims_df.groupBy(\"Customer_ID\").agg(\n        count(\"Claim_ID\").alias(\"Total_Claims\"),\n        count(\"Policy_ID\").alias(\"Policy_Count\"),\n        max(\"Claim_Date\").alias(\"Recent_Claim_Date\"),\n        avg(\"Claim_Amount\").alias(\"Average_Claim_Amount\")\n    )\n\n    # COMMAND ----------\n    # Custom Calculations and Derived Metrics\n    logger.info(\"Calculating custom metrics...\")\n    final_df = aggregated_df.join(selected_demographics_df, \"Customer_ID\", \"inner\").withColumn(\n        \"Age\", (datediff(current_date(), col(\"Date_of_Birth\")) / 365).cast(\"int\")\n    ).withColumn(\n        \"Claim_To_Premium_Ratio\", when(col(\"total_premium_paid\") != 0, col(\"Average_Claim_Amount\") / col(\"total_premium_paid\")).otherwise(0)\n    ).withColumn(\n        \"Claims_Per_Policy\", when(col(\"Policy_Count\") != 0, col(\"Total_Claims\") / col(\"Policy_Count\")).otherwise(0)\n    ).withColumn(\n        \"Retention_Rate\", lit(0.85)\n    ).withColumn(\n        \"Cross_Sell_Opportunities\", lit(\"Multi-Policy Discount, Home Coverage Add-on\")\n    ).withColumn(\n        \"Upsell_Potential\", lit(\"Premium Vehicle Coverage\")\n    )\n\n    # COMMAND ----------\n    # Predictive Insights Integration\n    logger.info(\"Integrating AI/ML insights...\")\n    enriched_df = final_df.join(aiml_insights_df, \"Customer_ID\", \"left\").join(scores_df, \"Customer_ID\", \"left\")\n\n    # COMMAND ----------\n    # Output Generation\n    logger.info(\"Writing the final DataFrame to the Customer_360 table...\")\n    enriched_df.write.format(\"delta\").mode(\"overwrite\").saveAsTable(\"genai_demo.jnj.customer_360_view\")\n\n    logger.info(\"ETL process completed successfully.\")\n\nexcept Exception as e:\n    logger.error(\"An error occurred during the ETL process\", exc_info=True)\n"
            ]
        }
    ],
    "metadata": {
        "kernelspec": {
            "display_name": "Python 3",
            "language": "python",
            "name": "python3"
        },
        "language_info": {
            "codemirror_mode": {
                "name": "ipython",
                "version": 3
            },
            "file_extension": ".py",
            "mimetype": "text/x-python",
            "name": "python",
            "nbconvert_exporter": "python",
            "pygments_lexer": "ipython3",
            "version": "3.x"
        }
    },
    "nbformat": 4,
    "nbformat_minor": 5
}